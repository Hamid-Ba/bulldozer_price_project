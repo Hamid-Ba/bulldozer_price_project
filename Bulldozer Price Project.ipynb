{
 "cells": [
  {
   "cell_type": "markdown",
   "id": "34e92524",
   "metadata": {},
   "source": [
    "# Bulldozer Price Prediction\n",
    "# Predicting 🚜 Price using machine learning\n",
    "This notebook looks into using various Python-based machine learning and data science libraries in an attempt to build a machine learning model capable of predicting Bulldozer Price based on their attributes.\n",
    "\n",
    "We're going to take the following approach:\n",
    "\n",
    "1. Problem definition\n",
    "2. Data\n",
    "3. Evaluation\n",
    "4. Features\n",
    "5. Modelling\n",
    "6. Experimentation\n",
    "\n",
    "## 1.Problem Definition\n",
    "> Predict the auction sale price for a piece of heavy equipment to create a \"blue book\" for bulldozers.\n",
    "\n",
    "## 2.Data\n",
    ">The data for this problem is split into three parts:\n",
    ">* `Train.csv` is the training set, which contains data through the end of 2011.\n",
    ">* `Valid.csv` is the validation set, which contains data from January 1, 2012 - April 30, 2012.\n",
    ">* `Test.csv` is the test set, It contains data from May 1, 2012 - November 2012.\n",
    ">also you can access the data from 👉🏼 : **https://www.kaggle.com/competitions/bluebook-for-bulldozers/data**\n",
    ">\n",
    ">**Based on the above 👆 link, The key fields are in train.csv are:**\n",
    ">* `SalesID`: the uniue identifier of the sale\n",
    ">* `MachineID`: the unique identifier of a machine.  A machine can be sold multiple times\n",
    ">* `saleprice`: what the machine sold for at auction (only provided in train.csv)\n",
    ">* `saledate`: the date of the sale\n",
    "\n",
    "## 3.Evaluation\n",
    ">The evaluation metric for this competition is the RMSLE (root mean squared log error) between the actual and predicted auction prices.\n",
    "\n",
    "## 4.Features\n",
    "> There are several fields towards the end of the file on the different options a machine can have.  The descriptions all start with \"machine configuration\" in the data dictionary. check the `Data Dictionary.xlsx`"
   ]
  },
  {
   "cell_type": "markdown",
   "id": "3d1730d4-050f-4cc6-866a-d730939fc202",
   "metadata": {},
   "source": [
    "# Preparing Tools"
   ]
  },
  {
   "cell_type": "code",
   "execution_count": 1,
   "id": "1e454139-a67c-4ae9-9407-104e89bb3a7b",
   "metadata": {},
   "outputs": [],
   "source": [
    "import numpy as np\n",
    "import pandas as pd\n",
    "import matplotlib.pyplot as plt\n",
    "import seaborn as sns"
   ]
  },
  {
   "cell_type": "code",
   "execution_count": null,
   "id": "910c19e5",
   "metadata": {},
   "outputs": [],
   "source": [
    "%matplotlib inline"
   ]
  },
  {
   "cell_type": "code",
   "execution_count": 4,
   "id": "06bbe8d1-78f8-4410-b63d-3762fbd3b158",
   "metadata": {},
   "outputs": [],
   "source": [
    "data_pd = pd.read_csv(\"./data/bluebook-for-bulldozers/TrainAndValid.csv\", low_memory=False)"
   ]
  },
  {
   "cell_type": "code",
   "execution_count": 5,
   "id": "af9aacc6-9316-42c9-a00f-4723cda12528",
   "metadata": {},
   "outputs": [
    {
     "name": "stdout",
     "output_type": "stream",
     "text": [
      "<class 'pandas.core.frame.DataFrame'>\n",
      "RangeIndex: 412698 entries, 0 to 412697\n",
      "Data columns (total 53 columns):\n",
      " #   Column                    Non-Null Count   Dtype  \n",
      "---  ------                    --------------   -----  \n",
      " 0   SalesID                   412698 non-null  int64  \n",
      " 1   SalePrice                 412698 non-null  float64\n",
      " 2   MachineID                 412698 non-null  int64  \n",
      " 3   ModelID                   412698 non-null  int64  \n",
      " 4   datasource                412698 non-null  int64  \n",
      " 5   auctioneerID              392562 non-null  float64\n",
      " 6   YearMade                  412698 non-null  int64  \n",
      " 7   MachineHoursCurrentMeter  147504 non-null  float64\n",
      " 8   UsageBand                 73670 non-null   object \n",
      " 9   saledate                  412698 non-null  object \n",
      " 10  fiModelDesc               412698 non-null  object \n",
      " 11  fiBaseModel               412698 non-null  object \n",
      " 12  fiSecondaryDesc           271971 non-null  object \n",
      " 13  fiModelSeries             58667 non-null   object \n",
      " 14  fiModelDescriptor         74816 non-null   object \n",
      " 15  ProductSize               196093 non-null  object \n",
      " 16  fiProductClassDesc        412698 non-null  object \n",
      " 17  state                     412698 non-null  object \n",
      " 18  ProductGroup              412698 non-null  object \n",
      " 19  ProductGroupDesc          412698 non-null  object \n",
      " 20  Drive_System              107087 non-null  object \n",
      " 21  Enclosure                 412364 non-null  object \n",
      " 22  Forks                     197715 non-null  object \n",
      " 23  Pad_Type                  81096 non-null   object \n",
      " 24  Ride_Control              152728 non-null  object \n",
      " 25  Stick                     81096 non-null   object \n",
      " 26  Transmission              188007 non-null  object \n",
      " 27  Turbocharged              81096 non-null   object \n",
      " 28  Blade_Extension           25983 non-null   object \n",
      " 29  Blade_Width               25983 non-null   object \n",
      " 30  Enclosure_Type            25983 non-null   object \n",
      " 31  Engine_Horsepower         25983 non-null   object \n",
      " 32  Hydraulics                330133 non-null  object \n",
      " 33  Pushblock                 25983 non-null   object \n",
      " 34  Ripper                    106945 non-null  object \n",
      " 35  Scarifier                 25994 non-null   object \n",
      " 36  Tip_Control               25983 non-null   object \n",
      " 37  Tire_Size                 97638 non-null   object \n",
      " 38  Coupler                   220679 non-null  object \n",
      " 39  Coupler_System            44974 non-null   object \n",
      " 40  Grouser_Tracks            44875 non-null   object \n",
      " 41  Hydraulics_Flow           44875 non-null   object \n",
      " 42  Track_Type                102193 non-null  object \n",
      " 43  Undercarriage_Pad_Width   102916 non-null  object \n",
      " 44  Stick_Length              102261 non-null  object \n",
      " 45  Thumb                     102332 non-null  object \n",
      " 46  Pattern_Changer           102261 non-null  object \n",
      " 47  Grouser_Type              102193 non-null  object \n",
      " 48  Backhoe_Mounting          80712 non-null   object \n",
      " 49  Blade_Type                81875 non-null   object \n",
      " 50  Travel_Controls           81877 non-null   object \n",
      " 51  Differential_Type         71564 non-null   object \n",
      " 52  Steering_Controls         71522 non-null   object \n",
      "dtypes: float64(3), int64(5), object(45)\n",
      "memory usage: 166.9+ MB\n"
     ]
    }
   ],
   "source": [
    "data_pd.info()"
   ]
  },
  {
   "cell_type": "code",
   "execution_count": 6,
   "id": "9b7e067c-c3e0-4945-8e9f-7d6db20b4231",
   "metadata": {},
   "outputs": [
    {
     "data": {
      "text/plain": [
       "SalesID                          0\n",
       "SalePrice                        0\n",
       "MachineID                        0\n",
       "ModelID                          0\n",
       "datasource                       0\n",
       "auctioneerID                 20136\n",
       "YearMade                         0\n",
       "MachineHoursCurrentMeter    265194\n",
       "UsageBand                   339028\n",
       "saledate                         0\n",
       "fiModelDesc                      0\n",
       "fiBaseModel                      0\n",
       "fiSecondaryDesc             140727\n",
       "fiModelSeries               354031\n",
       "fiModelDescriptor           337882\n",
       "ProductSize                 216605\n",
       "fiProductClassDesc               0\n",
       "state                            0\n",
       "ProductGroup                     0\n",
       "ProductGroupDesc                 0\n",
       "Drive_System                305611\n",
       "Enclosure                      334\n",
       "Forks                       214983\n",
       "Pad_Type                    331602\n",
       "Ride_Control                259970\n",
       "Stick                       331602\n",
       "Transmission                224691\n",
       "Turbocharged                331602\n",
       "Blade_Extension             386715\n",
       "Blade_Width                 386715\n",
       "Enclosure_Type              386715\n",
       "Engine_Horsepower           386715\n",
       "Hydraulics                   82565\n",
       "Pushblock                   386715\n",
       "Ripper                      305753\n",
       "Scarifier                   386704\n",
       "Tip_Control                 386715\n",
       "Tire_Size                   315060\n",
       "Coupler                     192019\n",
       "Coupler_System              367724\n",
       "Grouser_Tracks              367823\n",
       "Hydraulics_Flow             367823\n",
       "Track_Type                  310505\n",
       "Undercarriage_Pad_Width     309782\n",
       "Stick_Length                310437\n",
       "Thumb                       310366\n",
       "Pattern_Changer             310437\n",
       "Grouser_Type                310505\n",
       "Backhoe_Mounting            331986\n",
       "Blade_Type                  330823\n",
       "Travel_Controls             330821\n",
       "Differential_Type           341134\n",
       "Steering_Controls           341176\n",
       "dtype: int64"
      ]
     },
     "execution_count": 6,
     "metadata": {},
     "output_type": "execute_result"
    }
   ],
   "source": [
    "data_pd.isna().sum()"
   ]
  },
  {
   "cell_type": "code",
   "execution_count": 7,
   "id": "9d66b99e-7a34-4f92-985e-3e0a0f26441d",
   "metadata": {},
   "outputs": [
    {
     "data": {
      "text/html": [
       "<div>\n",
       "<style scoped>\n",
       "    .dataframe tbody tr th:only-of-type {\n",
       "        vertical-align: middle;\n",
       "    }\n",
       "\n",
       "    .dataframe tbody tr th {\n",
       "        vertical-align: top;\n",
       "    }\n",
       "\n",
       "    .dataframe thead th {\n",
       "        text-align: right;\n",
       "    }\n",
       "</style>\n",
       "<table border=\"1\" class=\"dataframe\">\n",
       "  <thead>\n",
       "    <tr style=\"text-align: right;\">\n",
       "      <th></th>\n",
       "      <th>SalesID</th>\n",
       "      <th>SalePrice</th>\n",
       "      <th>MachineID</th>\n",
       "      <th>ModelID</th>\n",
       "      <th>datasource</th>\n",
       "      <th>auctioneerID</th>\n",
       "      <th>YearMade</th>\n",
       "      <th>MachineHoursCurrentMeter</th>\n",
       "      <th>UsageBand</th>\n",
       "      <th>saledate</th>\n",
       "      <th>...</th>\n",
       "      <th>Undercarriage_Pad_Width</th>\n",
       "      <th>Stick_Length</th>\n",
       "      <th>Thumb</th>\n",
       "      <th>Pattern_Changer</th>\n",
       "      <th>Grouser_Type</th>\n",
       "      <th>Backhoe_Mounting</th>\n",
       "      <th>Blade_Type</th>\n",
       "      <th>Travel_Controls</th>\n",
       "      <th>Differential_Type</th>\n",
       "      <th>Steering_Controls</th>\n",
       "    </tr>\n",
       "  </thead>\n",
       "  <tbody>\n",
       "    <tr>\n",
       "      <th>0</th>\n",
       "      <td>1139246</td>\n",
       "      <td>66000.0</td>\n",
       "      <td>999089</td>\n",
       "      <td>3157</td>\n",
       "      <td>121</td>\n",
       "      <td>3.0</td>\n",
       "      <td>2004</td>\n",
       "      <td>68.0</td>\n",
       "      <td>Low</td>\n",
       "      <td>11/16/2006 0:00</td>\n",
       "      <td>...</td>\n",
       "      <td>NaN</td>\n",
       "      <td>NaN</td>\n",
       "      <td>NaN</td>\n",
       "      <td>NaN</td>\n",
       "      <td>NaN</td>\n",
       "      <td>NaN</td>\n",
       "      <td>NaN</td>\n",
       "      <td>NaN</td>\n",
       "      <td>Standard</td>\n",
       "      <td>Conventional</td>\n",
       "    </tr>\n",
       "    <tr>\n",
       "      <th>1</th>\n",
       "      <td>1139248</td>\n",
       "      <td>57000.0</td>\n",
       "      <td>117657</td>\n",
       "      <td>77</td>\n",
       "      <td>121</td>\n",
       "      <td>3.0</td>\n",
       "      <td>1996</td>\n",
       "      <td>4640.0</td>\n",
       "      <td>Low</td>\n",
       "      <td>3/26/2004 0:00</td>\n",
       "      <td>...</td>\n",
       "      <td>NaN</td>\n",
       "      <td>NaN</td>\n",
       "      <td>NaN</td>\n",
       "      <td>NaN</td>\n",
       "      <td>NaN</td>\n",
       "      <td>NaN</td>\n",
       "      <td>NaN</td>\n",
       "      <td>NaN</td>\n",
       "      <td>Standard</td>\n",
       "      <td>Conventional</td>\n",
       "    </tr>\n",
       "    <tr>\n",
       "      <th>2</th>\n",
       "      <td>1139249</td>\n",
       "      <td>10000.0</td>\n",
       "      <td>434808</td>\n",
       "      <td>7009</td>\n",
       "      <td>121</td>\n",
       "      <td>3.0</td>\n",
       "      <td>2001</td>\n",
       "      <td>2838.0</td>\n",
       "      <td>High</td>\n",
       "      <td>2/26/2004 0:00</td>\n",
       "      <td>...</td>\n",
       "      <td>NaN</td>\n",
       "      <td>NaN</td>\n",
       "      <td>NaN</td>\n",
       "      <td>NaN</td>\n",
       "      <td>NaN</td>\n",
       "      <td>NaN</td>\n",
       "      <td>NaN</td>\n",
       "      <td>NaN</td>\n",
       "      <td>NaN</td>\n",
       "      <td>NaN</td>\n",
       "    </tr>\n",
       "    <tr>\n",
       "      <th>3</th>\n",
       "      <td>1139251</td>\n",
       "      <td>38500.0</td>\n",
       "      <td>1026470</td>\n",
       "      <td>332</td>\n",
       "      <td>121</td>\n",
       "      <td>3.0</td>\n",
       "      <td>2001</td>\n",
       "      <td>3486.0</td>\n",
       "      <td>High</td>\n",
       "      <td>5/19/2011 0:00</td>\n",
       "      <td>...</td>\n",
       "      <td>NaN</td>\n",
       "      <td>NaN</td>\n",
       "      <td>NaN</td>\n",
       "      <td>NaN</td>\n",
       "      <td>NaN</td>\n",
       "      <td>NaN</td>\n",
       "      <td>NaN</td>\n",
       "      <td>NaN</td>\n",
       "      <td>NaN</td>\n",
       "      <td>NaN</td>\n",
       "    </tr>\n",
       "    <tr>\n",
       "      <th>4</th>\n",
       "      <td>1139253</td>\n",
       "      <td>11000.0</td>\n",
       "      <td>1057373</td>\n",
       "      <td>17311</td>\n",
       "      <td>121</td>\n",
       "      <td>3.0</td>\n",
       "      <td>2007</td>\n",
       "      <td>722.0</td>\n",
       "      <td>Medium</td>\n",
       "      <td>7/23/2009 0:00</td>\n",
       "      <td>...</td>\n",
       "      <td>NaN</td>\n",
       "      <td>NaN</td>\n",
       "      <td>NaN</td>\n",
       "      <td>NaN</td>\n",
       "      <td>NaN</td>\n",
       "      <td>NaN</td>\n",
       "      <td>NaN</td>\n",
       "      <td>NaN</td>\n",
       "      <td>NaN</td>\n",
       "      <td>NaN</td>\n",
       "    </tr>\n",
       "  </tbody>\n",
       "</table>\n",
       "<p>5 rows × 53 columns</p>\n",
       "</div>"
      ],
      "text/plain": [
       "   SalesID  SalePrice  MachineID  ModelID  datasource  auctioneerID  YearMade  \\\n",
       "0  1139246    66000.0     999089     3157         121           3.0      2004   \n",
       "1  1139248    57000.0     117657       77         121           3.0      1996   \n",
       "2  1139249    10000.0     434808     7009         121           3.0      2001   \n",
       "3  1139251    38500.0    1026470      332         121           3.0      2001   \n",
       "4  1139253    11000.0    1057373    17311         121           3.0      2007   \n",
       "\n",
       "   MachineHoursCurrentMeter UsageBand         saledate  ...  \\\n",
       "0                      68.0       Low  11/16/2006 0:00  ...   \n",
       "1                    4640.0       Low   3/26/2004 0:00  ...   \n",
       "2                    2838.0      High   2/26/2004 0:00  ...   \n",
       "3                    3486.0      High   5/19/2011 0:00  ...   \n",
       "4                     722.0    Medium   7/23/2009 0:00  ...   \n",
       "\n",
       "  Undercarriage_Pad_Width Stick_Length Thumb Pattern_Changer Grouser_Type  \\\n",
       "0                     NaN          NaN   NaN             NaN          NaN   \n",
       "1                     NaN          NaN   NaN             NaN          NaN   \n",
       "2                     NaN          NaN   NaN             NaN          NaN   \n",
       "3                     NaN          NaN   NaN             NaN          NaN   \n",
       "4                     NaN          NaN   NaN             NaN          NaN   \n",
       "\n",
       "  Backhoe_Mounting Blade_Type Travel_Controls Differential_Type  \\\n",
       "0              NaN        NaN             NaN          Standard   \n",
       "1              NaN        NaN             NaN          Standard   \n",
       "2              NaN        NaN             NaN               NaN   \n",
       "3              NaN        NaN             NaN               NaN   \n",
       "4              NaN        NaN             NaN               NaN   \n",
       "\n",
       "  Steering_Controls  \n",
       "0      Conventional  \n",
       "1      Conventional  \n",
       "2               NaN  \n",
       "3               NaN  \n",
       "4               NaN  \n",
       "\n",
       "[5 rows x 53 columns]"
      ]
     },
     "execution_count": 7,
     "metadata": {},
     "output_type": "execute_result"
    }
   ],
   "source": [
    "data_pd.head()"
   ]
  },
  {
   "cell_type": "markdown",
   "id": "a60468b4-1810-4415-ad5c-b877fc9a138c",
   "metadata": {},
   "source": [
    "**one of the important field is `saledata`, let's explore it:**"
   ]
  },
  {
   "cell_type": "code",
   "execution_count": 8,
   "id": "402a6298-815b-4990-8ab3-fe5d208dac45",
   "metadata": {},
   "outputs": [
    {
     "data": {
      "text/plain": [
       "0    11/16/2006 0:00\n",
       "1     3/26/2004 0:00\n",
       "2     2/26/2004 0:00\n",
       "3     5/19/2011 0:00\n",
       "4     7/23/2009 0:00\n",
       "5    12/18/2008 0:00\n",
       "6     8/26/2004 0:00\n",
       "7    11/17/2005 0:00\n",
       "8     8/27/2009 0:00\n",
       "9      8/9/2007 0:00\n",
       "Name: saledate, dtype: object"
      ]
     },
     "execution_count": 8,
     "metadata": {},
     "output_type": "execute_result"
    }
   ],
   "source": [
    "data_pd[\"saledate\"][:10]"
   ]
  },
  {
   "cell_type": "markdown",
   "id": "4ad53327-da1c-4a57-adb9-c5f172d5a54c",
   "metadata": {},
   "source": [
    "**should turn it to ***date type** and sort datas by date***"
   ]
  },
  {
   "cell_type": "code",
   "execution_count": 9,
   "id": "dafb1265-90c0-436c-8106-274b8d26856f",
   "metadata": {},
   "outputs": [],
   "source": [
    "date_format_pd = data_pd.copy()"
   ]
  },
  {
   "cell_type": "code",
   "execution_count": 10,
   "id": "c7e1cf1c-6cdf-43cf-b526-1046f0c73012",
   "metadata": {},
   "outputs": [],
   "source": [
    "date_format_pd[\"saledate\"] = pd.to_datetime(data_pd[\"saledate\"])"
   ]
  },
  {
   "cell_type": "code",
   "execution_count": 11,
   "id": "82dcb429-52e6-48d3-b39d-c91275981c05",
   "metadata": {},
   "outputs": [
    {
     "data": {
      "text/plain": [
       "0   2006-11-16\n",
       "1   2004-03-26\n",
       "2   2004-02-26\n",
       "3   2011-05-19\n",
       "4   2009-07-23\n",
       "5   2008-12-18\n",
       "6   2004-08-26\n",
       "7   2005-11-17\n",
       "8   2009-08-27\n",
       "9   2007-08-09\n",
       "Name: saledate, dtype: datetime64[ns]"
      ]
     },
     "execution_count": 11,
     "metadata": {},
     "output_type": "execute_result"
    }
   ],
   "source": [
    "date_format_pd[\"saledate\"][:10]"
   ]
  },
  {
   "cell_type": "code",
   "execution_count": 12,
   "id": "1961eaf3-5558-4ca0-8b6e-cd90e57834a6",
   "metadata": {},
   "outputs": [],
   "source": [
    "date_format_pd.sort_values(by=\"saledate\", ascending=True, inplace=True)"
   ]
  },
  {
   "cell_type": "code",
   "execution_count": 13,
   "id": "dff6ffb0-bb47-41ce-a0b1-67a884c4b424",
   "metadata": {},
   "outputs": [
    {
     "data": {
      "text/html": [
       "<div>\n",
       "<style scoped>\n",
       "    .dataframe tbody tr th:only-of-type {\n",
       "        vertical-align: middle;\n",
       "    }\n",
       "\n",
       "    .dataframe tbody tr th {\n",
       "        vertical-align: top;\n",
       "    }\n",
       "\n",
       "    .dataframe thead th {\n",
       "        text-align: right;\n",
       "    }\n",
       "</style>\n",
       "<table border=\"1\" class=\"dataframe\">\n",
       "  <thead>\n",
       "    <tr style=\"text-align: right;\">\n",
       "      <th></th>\n",
       "      <th>SalesID</th>\n",
       "      <th>SalePrice</th>\n",
       "      <th>MachineID</th>\n",
       "      <th>ModelID</th>\n",
       "      <th>datasource</th>\n",
       "      <th>auctioneerID</th>\n",
       "      <th>YearMade</th>\n",
       "      <th>MachineHoursCurrentMeter</th>\n",
       "      <th>UsageBand</th>\n",
       "      <th>saledate</th>\n",
       "      <th>...</th>\n",
       "      <th>Undercarriage_Pad_Width</th>\n",
       "      <th>Stick_Length</th>\n",
       "      <th>Thumb</th>\n",
       "      <th>Pattern_Changer</th>\n",
       "      <th>Grouser_Type</th>\n",
       "      <th>Backhoe_Mounting</th>\n",
       "      <th>Blade_Type</th>\n",
       "      <th>Travel_Controls</th>\n",
       "      <th>Differential_Type</th>\n",
       "      <th>Steering_Controls</th>\n",
       "    </tr>\n",
       "  </thead>\n",
       "  <tbody>\n",
       "    <tr>\n",
       "      <th>205615</th>\n",
       "      <td>1646770</td>\n",
       "      <td>9500.0</td>\n",
       "      <td>1126363</td>\n",
       "      <td>8434</td>\n",
       "      <td>132</td>\n",
       "      <td>18.0</td>\n",
       "      <td>1974</td>\n",
       "      <td>NaN</td>\n",
       "      <td>NaN</td>\n",
       "      <td>1989-01-17</td>\n",
       "      <td>...</td>\n",
       "      <td>NaN</td>\n",
       "      <td>NaN</td>\n",
       "      <td>NaN</td>\n",
       "      <td>NaN</td>\n",
       "      <td>NaN</td>\n",
       "      <td>None or Unspecified</td>\n",
       "      <td>Straight</td>\n",
       "      <td>None or Unspecified</td>\n",
       "      <td>NaN</td>\n",
       "      <td>NaN</td>\n",
       "    </tr>\n",
       "    <tr>\n",
       "      <th>274835</th>\n",
       "      <td>1821514</td>\n",
       "      <td>14000.0</td>\n",
       "      <td>1194089</td>\n",
       "      <td>10150</td>\n",
       "      <td>132</td>\n",
       "      <td>99.0</td>\n",
       "      <td>1980</td>\n",
       "      <td>NaN</td>\n",
       "      <td>NaN</td>\n",
       "      <td>1989-01-31</td>\n",
       "      <td>...</td>\n",
       "      <td>NaN</td>\n",
       "      <td>NaN</td>\n",
       "      <td>NaN</td>\n",
       "      <td>NaN</td>\n",
       "      <td>NaN</td>\n",
       "      <td>NaN</td>\n",
       "      <td>NaN</td>\n",
       "      <td>NaN</td>\n",
       "      <td>Standard</td>\n",
       "      <td>Conventional</td>\n",
       "    </tr>\n",
       "    <tr>\n",
       "      <th>141296</th>\n",
       "      <td>1505138</td>\n",
       "      <td>50000.0</td>\n",
       "      <td>1473654</td>\n",
       "      <td>4139</td>\n",
       "      <td>132</td>\n",
       "      <td>99.0</td>\n",
       "      <td>1978</td>\n",
       "      <td>NaN</td>\n",
       "      <td>NaN</td>\n",
       "      <td>1989-01-31</td>\n",
       "      <td>...</td>\n",
       "      <td>NaN</td>\n",
       "      <td>NaN</td>\n",
       "      <td>NaN</td>\n",
       "      <td>NaN</td>\n",
       "      <td>NaN</td>\n",
       "      <td>None or Unspecified</td>\n",
       "      <td>Straight</td>\n",
       "      <td>None or Unspecified</td>\n",
       "      <td>NaN</td>\n",
       "      <td>NaN</td>\n",
       "    </tr>\n",
       "    <tr>\n",
       "      <th>212552</th>\n",
       "      <td>1671174</td>\n",
       "      <td>16000.0</td>\n",
       "      <td>1327630</td>\n",
       "      <td>8591</td>\n",
       "      <td>132</td>\n",
       "      <td>99.0</td>\n",
       "      <td>1980</td>\n",
       "      <td>NaN</td>\n",
       "      <td>NaN</td>\n",
       "      <td>1989-01-31</td>\n",
       "      <td>...</td>\n",
       "      <td>NaN</td>\n",
       "      <td>NaN</td>\n",
       "      <td>NaN</td>\n",
       "      <td>NaN</td>\n",
       "      <td>NaN</td>\n",
       "      <td>NaN</td>\n",
       "      <td>NaN</td>\n",
       "      <td>NaN</td>\n",
       "      <td>Standard</td>\n",
       "      <td>Conventional</td>\n",
       "    </tr>\n",
       "    <tr>\n",
       "      <th>62755</th>\n",
       "      <td>1329056</td>\n",
       "      <td>22000.0</td>\n",
       "      <td>1336053</td>\n",
       "      <td>4089</td>\n",
       "      <td>132</td>\n",
       "      <td>99.0</td>\n",
       "      <td>1984</td>\n",
       "      <td>NaN</td>\n",
       "      <td>NaN</td>\n",
       "      <td>1989-01-31</td>\n",
       "      <td>...</td>\n",
       "      <td>NaN</td>\n",
       "      <td>NaN</td>\n",
       "      <td>NaN</td>\n",
       "      <td>NaN</td>\n",
       "      <td>NaN</td>\n",
       "      <td>None or Unspecified</td>\n",
       "      <td>PAT</td>\n",
       "      <td>Lever</td>\n",
       "      <td>NaN</td>\n",
       "      <td>NaN</td>\n",
       "    </tr>\n",
       "  </tbody>\n",
       "</table>\n",
       "<p>5 rows × 53 columns</p>\n",
       "</div>"
      ],
      "text/plain": [
       "        SalesID  SalePrice  MachineID  ModelID  datasource  auctioneerID  \\\n",
       "205615  1646770     9500.0    1126363     8434         132          18.0   \n",
       "274835  1821514    14000.0    1194089    10150         132          99.0   \n",
       "141296  1505138    50000.0    1473654     4139         132          99.0   \n",
       "212552  1671174    16000.0    1327630     8591         132          99.0   \n",
       "62755   1329056    22000.0    1336053     4089         132          99.0   \n",
       "\n",
       "        YearMade  MachineHoursCurrentMeter UsageBand   saledate  ...  \\\n",
       "205615      1974                       NaN       NaN 1989-01-17  ...   \n",
       "274835      1980                       NaN       NaN 1989-01-31  ...   \n",
       "141296      1978                       NaN       NaN 1989-01-31  ...   \n",
       "212552      1980                       NaN       NaN 1989-01-31  ...   \n",
       "62755       1984                       NaN       NaN 1989-01-31  ...   \n",
       "\n",
       "       Undercarriage_Pad_Width Stick_Length Thumb Pattern_Changer  \\\n",
       "205615                     NaN          NaN   NaN             NaN   \n",
       "274835                     NaN          NaN   NaN             NaN   \n",
       "141296                     NaN          NaN   NaN             NaN   \n",
       "212552                     NaN          NaN   NaN             NaN   \n",
       "62755                      NaN          NaN   NaN             NaN   \n",
       "\n",
       "       Grouser_Type     Backhoe_Mounting Blade_Type      Travel_Controls  \\\n",
       "205615          NaN  None or Unspecified   Straight  None or Unspecified   \n",
       "274835          NaN                  NaN        NaN                  NaN   \n",
       "141296          NaN  None or Unspecified   Straight  None or Unspecified   \n",
       "212552          NaN                  NaN        NaN                  NaN   \n",
       "62755           NaN  None or Unspecified        PAT                Lever   \n",
       "\n",
       "       Differential_Type Steering_Controls  \n",
       "205615               NaN               NaN  \n",
       "274835          Standard      Conventional  \n",
       "141296               NaN               NaN  \n",
       "212552          Standard      Conventional  \n",
       "62755                NaN               NaN  \n",
       "\n",
       "[5 rows x 53 columns]"
      ]
     },
     "execution_count": 13,
     "metadata": {},
     "output_type": "execute_result"
    }
   ],
   "source": [
    "date_format_pd.head()"
   ]
  },
  {
   "cell_type": "markdown",
   "id": "be723655-1369-4156-8a0d-d825d5c072b9",
   "metadata": {},
   "source": [
    "### add year, month, day of the sale for each record by **pandas date format**:"
   ]
  },
  {
   "cell_type": "code",
   "execution_count": 14,
   "id": "a5a29387-91ff-4175-bdd1-8c03ffbfe1b9",
   "metadata": {},
   "outputs": [],
   "source": [
    "def expand_date(data_pd, date_field_name, by=\"day\"):\n",
    "    by = str(by).lower()\n",
    "\n",
    "    if by == \"day\":\n",
    "        data_pd[\"day\"] = data_pd[date_field_name].dt.day\n",
    "    \n",
    "    elif by == \"month\":\n",
    "        data_pd[\"month\"] = data_pd[date_field_name].dt.month\n",
    "   \n",
    "    elif by == \"year\":\n",
    "        data_pd[\"year\"] = data_pd[date_field_name].dt.year"
   ]
  },
  {
   "cell_type": "code",
   "execution_count": 15,
   "id": "60a82bfb-43fb-4bb8-b296-f3fbc38d99e4",
   "metadata": {},
   "outputs": [],
   "source": [
    "expand_date(date_format_pd, \"saledate\", \"day\")\n",
    "expand_date(date_format_pd, \"saledate\", \"month\")\n",
    "expand_date(date_format_pd, \"saledate\", \"year\")"
   ]
  },
  {
   "cell_type": "code",
   "execution_count": 16,
   "id": "595e7664-88c2-4505-9e0c-864eb85ede1e",
   "metadata": {},
   "outputs": [
    {
     "data": {
      "text/html": [
       "<div>\n",
       "<style scoped>\n",
       "    .dataframe tbody tr th:only-of-type {\n",
       "        vertical-align: middle;\n",
       "    }\n",
       "\n",
       "    .dataframe tbody tr th {\n",
       "        vertical-align: top;\n",
       "    }\n",
       "\n",
       "    .dataframe thead th {\n",
       "        text-align: right;\n",
       "    }\n",
       "</style>\n",
       "<table border=\"1\" class=\"dataframe\">\n",
       "  <thead>\n",
       "    <tr style=\"text-align: right;\">\n",
       "      <th></th>\n",
       "      <th>SalesID</th>\n",
       "      <th>SalePrice</th>\n",
       "      <th>MachineID</th>\n",
       "      <th>ModelID</th>\n",
       "      <th>datasource</th>\n",
       "      <th>auctioneerID</th>\n",
       "      <th>YearMade</th>\n",
       "      <th>MachineHoursCurrentMeter</th>\n",
       "      <th>UsageBand</th>\n",
       "      <th>saledate</th>\n",
       "      <th>...</th>\n",
       "      <th>Pattern_Changer</th>\n",
       "      <th>Grouser_Type</th>\n",
       "      <th>Backhoe_Mounting</th>\n",
       "      <th>Blade_Type</th>\n",
       "      <th>Travel_Controls</th>\n",
       "      <th>Differential_Type</th>\n",
       "      <th>Steering_Controls</th>\n",
       "      <th>day</th>\n",
       "      <th>month</th>\n",
       "      <th>year</th>\n",
       "    </tr>\n",
       "  </thead>\n",
       "  <tbody>\n",
       "    <tr>\n",
       "      <th>389846</th>\n",
       "      <td>4371877</td>\n",
       "      <td>14000.0</td>\n",
       "      <td>2311876</td>\n",
       "      <td>9511</td>\n",
       "      <td>172</td>\n",
       "      <td>1.0</td>\n",
       "      <td>1997</td>\n",
       "      <td>3739.0</td>\n",
       "      <td>Low</td>\n",
       "      <td>2011-09-14</td>\n",
       "      <td>...</td>\n",
       "      <td>None or Unspecified</td>\n",
       "      <td>Double</td>\n",
       "      <td>NaN</td>\n",
       "      <td>NaN</td>\n",
       "      <td>NaN</td>\n",
       "      <td>NaN</td>\n",
       "      <td>NaN</td>\n",
       "      <td>14</td>\n",
       "      <td>9</td>\n",
       "      <td>2011</td>\n",
       "    </tr>\n",
       "    <tr>\n",
       "      <th>26487</th>\n",
       "      <td>1253962</td>\n",
       "      <td>14250.0</td>\n",
       "      <td>1272308</td>\n",
       "      <td>3170</td>\n",
       "      <td>132</td>\n",
       "      <td>14.0</td>\n",
       "      <td>1987</td>\n",
       "      <td>NaN</td>\n",
       "      <td>NaN</td>\n",
       "      <td>1997-12-18</td>\n",
       "      <td>...</td>\n",
       "      <td>NaN</td>\n",
       "      <td>NaN</td>\n",
       "      <td>NaN</td>\n",
       "      <td>NaN</td>\n",
       "      <td>NaN</td>\n",
       "      <td>NaN</td>\n",
       "      <td>NaN</td>\n",
       "      <td>18</td>\n",
       "      <td>12</td>\n",
       "      <td>1997</td>\n",
       "    </tr>\n",
       "    <tr>\n",
       "      <th>108237</th>\n",
       "      <td>1439173</td>\n",
       "      <td>66000.0</td>\n",
       "      <td>205557</td>\n",
       "      <td>3807</td>\n",
       "      <td>132</td>\n",
       "      <td>1.0</td>\n",
       "      <td>1999</td>\n",
       "      <td>NaN</td>\n",
       "      <td>NaN</td>\n",
       "      <td>2005-09-27</td>\n",
       "      <td>...</td>\n",
       "      <td>NaN</td>\n",
       "      <td>NaN</td>\n",
       "      <td>NaN</td>\n",
       "      <td>NaN</td>\n",
       "      <td>NaN</td>\n",
       "      <td>Limited Slip</td>\n",
       "      <td>Conventional</td>\n",
       "      <td>27</td>\n",
       "      <td>9</td>\n",
       "      <td>2005</td>\n",
       "    </tr>\n",
       "    <tr>\n",
       "      <th>110038</th>\n",
       "      <td>1442932</td>\n",
       "      <td>44000.0</td>\n",
       "      <td>1097468</td>\n",
       "      <td>4328</td>\n",
       "      <td>132</td>\n",
       "      <td>2.0</td>\n",
       "      <td>1994</td>\n",
       "      <td>NaN</td>\n",
       "      <td>NaN</td>\n",
       "      <td>1998-11-21</td>\n",
       "      <td>...</td>\n",
       "      <td>NaN</td>\n",
       "      <td>NaN</td>\n",
       "      <td>NaN</td>\n",
       "      <td>NaN</td>\n",
       "      <td>NaN</td>\n",
       "      <td>Standard</td>\n",
       "      <td>Conventional</td>\n",
       "      <td>21</td>\n",
       "      <td>11</td>\n",
       "      <td>1998</td>\n",
       "    </tr>\n",
       "    <tr>\n",
       "      <th>43639</th>\n",
       "      <td>1284580</td>\n",
       "      <td>22000.0</td>\n",
       "      <td>1506966</td>\n",
       "      <td>3178</td>\n",
       "      <td>132</td>\n",
       "      <td>1.0</td>\n",
       "      <td>1996</td>\n",
       "      <td>NaN</td>\n",
       "      <td>NaN</td>\n",
       "      <td>2003-09-12</td>\n",
       "      <td>...</td>\n",
       "      <td>NaN</td>\n",
       "      <td>NaN</td>\n",
       "      <td>NaN</td>\n",
       "      <td>NaN</td>\n",
       "      <td>NaN</td>\n",
       "      <td>NaN</td>\n",
       "      <td>NaN</td>\n",
       "      <td>12</td>\n",
       "      <td>9</td>\n",
       "      <td>2003</td>\n",
       "    </tr>\n",
       "  </tbody>\n",
       "</table>\n",
       "<p>5 rows × 56 columns</p>\n",
       "</div>"
      ],
      "text/plain": [
       "        SalesID  SalePrice  MachineID  ModelID  datasource  auctioneerID  \\\n",
       "389846  4371877    14000.0    2311876     9511         172           1.0   \n",
       "26487   1253962    14250.0    1272308     3170         132          14.0   \n",
       "108237  1439173    66000.0     205557     3807         132           1.0   \n",
       "110038  1442932    44000.0    1097468     4328         132           2.0   \n",
       "43639   1284580    22000.0    1506966     3178         132           1.0   \n",
       "\n",
       "        YearMade  MachineHoursCurrentMeter UsageBand   saledate  ...  \\\n",
       "389846      1997                    3739.0       Low 2011-09-14  ...   \n",
       "26487       1987                       NaN       NaN 1997-12-18  ...   \n",
       "108237      1999                       NaN       NaN 2005-09-27  ...   \n",
       "110038      1994                       NaN       NaN 1998-11-21  ...   \n",
       "43639       1996                       NaN       NaN 2003-09-12  ...   \n",
       "\n",
       "            Pattern_Changer Grouser_Type Backhoe_Mounting Blade_Type  \\\n",
       "389846  None or Unspecified       Double              NaN        NaN   \n",
       "26487                   NaN          NaN              NaN        NaN   \n",
       "108237                  NaN          NaN              NaN        NaN   \n",
       "110038                  NaN          NaN              NaN        NaN   \n",
       "43639                   NaN          NaN              NaN        NaN   \n",
       "\n",
       "       Travel_Controls Differential_Type Steering_Controls day month  year  \n",
       "389846             NaN               NaN               NaN  14     9  2011  \n",
       "26487              NaN               NaN               NaN  18    12  1997  \n",
       "108237             NaN      Limited Slip      Conventional  27     9  2005  \n",
       "110038             NaN          Standard      Conventional  21    11  1998  \n",
       "43639              NaN               NaN               NaN  12     9  2003  \n",
       "\n",
       "[5 rows x 56 columns]"
      ]
     },
     "execution_count": 16,
     "metadata": {},
     "output_type": "execute_result"
    }
   ],
   "source": [
    "date_format_pd.sample(5)"
   ]
  },
  {
   "cell_type": "code",
   "execution_count": 17,
   "id": "b0e486dd-021b-4303-820f-04a122256e94",
   "metadata": {},
   "outputs": [
    {
     "data": {
      "image/png": "[encoded data removed]",
      "text/plain": [
       "<Figure size 1600x800 with 1 Axes>"
      ]
     },
     "metadata": {},
     "output_type": "display_data"
    }
   ],
   "source": [
    "fig, ax = plt.subplots(figsize=(16,8))\n",
    "\n",
    "ax = plt.scatter(date_format_pd[\"saledate\"][:100000], date_format_pd[\"SalePrice\"][:100000], c=\"salmon\")\n",
    "\n",
    "plt.xlabel(\"Sale Date\")\n",
    "plt.ylabel(\"Sale Price\")\n",
    "plt.title(\"Distribution of sales based on time of sale (first 100,000)\")\n",
    "\n",
    "plt.plot();"
   ]
  },
  {
   "cell_type": "code",
   "execution_count": 18,
   "id": "5f3029a2-b2c1-4c94-b32c-778b15e4ed3b",
   "metadata": {},
   "outputs": [
    {
     "name": "stdout",
     "output_type": "stream",
     "text": [
      "Min Price: 4750.0, Max Price: 142000.0\n"
     ]
    }
   ],
   "source": [
    "min_sale_price = np.min(date_format_pd[\"SalePrice\"])\n",
    "max_sale_price = np.max(date_format_pd[\"SalePrice\"])\n",
    "\n",
    "print(f\"Min Price: {min_sale_price}, Max Price: {max_sale_price}\")"
   ]
  },
  {
   "cell_type": "code",
   "execution_count": 19,
   "id": "0dcf52ca-7d0e-4964-adec-7b3038979525",
   "metadata": {},
   "outputs": [
    {
     "data": {
      "image/png": "[encoded data removed]",
      "text/plain": [
       "<Figure size 3000x1000 with 2 Axes>"
      ]
     },
     "metadata": {},
     "output_type": "display_data"
    }
   ],
   "source": [
    "plt.subplot(1, 2, 1)\n",
    "date_format_pd[\"SalePrice\"].hist(color=\"salmon\",figsize=(30,10));\n",
    "plt.xlabel(\"Sale Price\")\n",
    "plt.title(\"Distribution Based On Sale Price\");\n",
    "\n",
    "plt.subplot(1, 2, 2)\n",
    "date_format_pd[\"saledate\"].hist(color=\"salmon\")\n",
    "plt.xlabel(\"Sale Date\");\n",
    "\n",
    "plt.title(\"Distribution Based On Sale Date\");"
   ]
  },
  {
   "cell_type": "markdown",
   "id": "20531287-488e-4f23-b78c-02dd2ba2b55a",
   "metadata": {},
   "source": [
    "# Preprocessing \n",
    "### let's make `imputation` and make convert all features to `numeric` type "
   ]
  },
  {
   "cell_type": "code",
   "execution_count": 20,
   "id": "505e5df7-8aa1-41cb-8151-9d9f1a59b662",
   "metadata": {},
   "outputs": [],
   "source": [
    "date_format_pd.drop([\"saledate\"], axis=1, inplace=True)"
   ]
  },
  {
   "cell_type": "code",
   "execution_count": 21,
   "id": "173c1d37-6144-4db2-b14f-f9c1762724b3",
   "metadata": {},
   "outputs": [
    {
     "name": "stdout",
     "output_type": "stream",
     "text": [
      "<class 'pandas.core.frame.DataFrame'>\n",
      "Index: 412698 entries, 205615 to 409203\n",
      "Data columns (total 55 columns):\n",
      " #   Column                    Non-Null Count   Dtype  \n",
      "---  ------                    --------------   -----  \n",
      " 0   SalesID                   412698 non-null  int64  \n",
      " 1   SalePrice                 412698 non-null  float64\n",
      " 2   MachineID                 412698 non-null  int64  \n",
      " 3   ModelID                   412698 non-null  int64  \n",
      " 4   datasource                412698 non-null  int64  \n",
      " 5   auctioneerID              392562 non-null  float64\n",
      " 6   YearMade                  412698 non-null  int64  \n",
      " 7   MachineHoursCurrentMeter  147504 non-null  float64\n",
      " 8   UsageBand                 73670 non-null   object \n",
      " 9   fiModelDesc               412698 non-null  object \n",
      " 10  fiBaseModel               412698 non-null  object \n",
      " 11  fiSecondaryDesc           271971 non-null  object \n",
      " 12  fiModelSeries             58667 non-null   object \n",
      " 13  fiModelDescriptor         74816 non-null   object \n",
      " 14  ProductSize               196093 non-null  object \n",
      " 15  fiProductClassDesc        412698 non-null  object \n",
      " 16  state                     412698 non-null  object \n",
      " 17  ProductGroup              412698 non-null  object \n",
      " 18  ProductGroupDesc          412698 non-null  object \n",
      " 19  Drive_System              107087 non-null  object \n",
      " 20  Enclosure                 412364 non-null  object \n",
      " 21  Forks                     197715 non-null  object \n",
      " 22  Pad_Type                  81096 non-null   object \n",
      " 23  Ride_Control              152728 non-null  object \n",
      " 24  Stick                     81096 non-null   object \n",
      " 25  Transmission              188007 non-null  object \n",
      " 26  Turbocharged              81096 non-null   object \n",
      " 27  Blade_Extension           25983 non-null   object \n",
      " 28  Blade_Width               25983 non-null   object \n",
      " 29  Enclosure_Type            25983 non-null   object \n",
      " 30  Engine_Horsepower         25983 non-null   object \n",
      " 31  Hydraulics                330133 non-null  object \n",
      " 32  Pushblock                 25983 non-null   object \n",
      " 33  Ripper                    106945 non-null  object \n",
      " 34  Scarifier                 25994 non-null   object \n",
      " 35  Tip_Control               25983 non-null   object \n",
      " 36  Tire_Size                 97638 non-null   object \n",
      " 37  Coupler                   220679 non-null  object \n",
      " 38  Coupler_System            44974 non-null   object \n",
      " 39  Grouser_Tracks            44875 non-null   object \n",
      " 40  Hydraulics_Flow           44875 non-null   object \n",
      " 41  Track_Type                102193 non-null  object \n",
      " 42  Undercarriage_Pad_Width   102916 non-null  object \n",
      " 43  Stick_Length              102261 non-null  object \n",
      " 44  Thumb                     102332 non-null  object \n",
      " 45  Pattern_Changer           102261 non-null  object \n",
      " 46  Grouser_Type              102193 non-null  object \n",
      " 47  Backhoe_Mounting          80712 non-null   object \n",
      " 48  Blade_Type                81875 non-null   object \n",
      " 49  Travel_Controls           81877 non-null   object \n",
      " 50  Differential_Type         71564 non-null   object \n",
      " 51  Steering_Controls         71522 non-null   object \n",
      " 52  day                       412698 non-null  int32  \n",
      " 53  month                     412698 non-null  int32  \n",
      " 54  year                      412698 non-null  int32  \n",
      "dtypes: float64(3), int32(3), int64(5), object(44)\n",
      "memory usage: 171.6+ MB\n"
     ]
    }
   ],
   "source": [
    "date_format_pd.info()"
   ]
  },
  {
   "cell_type": "code",
   "execution_count": 22,
   "id": "3e04c7c3-3308-4212-a5b9-e6142e6f12b4",
   "metadata": {},
   "outputs": [],
   "source": [
    "from pandas.api.types import is_numeric_dtype, is_string_dtype"
   ]
  },
  {
   "cell_type": "markdown",
   "id": "1d90a8e9-b211-4b17-9133-0cee8f444e33",
   "metadata": {},
   "source": [
    "## first we can change string feature to category type"
   ]
  },
  {
   "cell_type": "code",
   "execution_count": 23,
   "id": "442b31ae-eeee-417d-a6ee-2d4111f80634",
   "metadata": {},
   "outputs": [
    {
     "name": "stdout",
     "output_type": "stream",
     "text": [
      "UsageBand\n",
      "fiModelDesc\n",
      "fiBaseModel\n",
      "fiSecondaryDesc\n",
      "fiModelSeries\n",
      "fiModelDescriptor\n",
      "ProductSize\n",
      "fiProductClassDesc\n",
      "state\n",
      "ProductGroup\n",
      "ProductGroupDesc\n",
      "Drive_System\n",
      "Enclosure\n",
      "Forks\n",
      "Pad_Type\n",
      "Ride_Control\n",
      "Stick\n",
      "Transmission\n",
      "Turbocharged\n",
      "Blade_Extension\n",
      "Blade_Width\n",
      "Enclosure_Type\n",
      "Engine_Horsepower\n",
      "Hydraulics\n",
      "Pushblock\n",
      "Ripper\n",
      "Scarifier\n",
      "Tip_Control\n",
      "Tire_Size\n",
      "Coupler\n",
      "Coupler_System\n",
      "Grouser_Tracks\n",
      "Hydraulics_Flow\n",
      "Track_Type\n",
      "Undercarriage_Pad_Width\n",
      "Stick_Length\n",
      "Thumb\n",
      "Pattern_Changer\n",
      "Grouser_Type\n",
      "Backhoe_Mounting\n",
      "Blade_Type\n",
      "Travel_Controls\n",
      "Differential_Type\n",
      "Steering_Controls\n"
     ]
    }
   ],
   "source": [
    "for label, content in date_format_pd.items():\n",
    "        if not is_numeric_dtype(content):\n",
    "            print(label)"
   ]
  },
  {
   "cell_type": "code",
   "execution_count": 24,
   "id": "00e57938-8669-41e0-b982-b59c8f7ff4a3",
   "metadata": {},
   "outputs": [],
   "source": [
    "def pre_process_string_features(df):\n",
    "    for label, content in df.items():\n",
    "        if not is_numeric_dtype(content):\n",
    "            df[label+\"_missing\"] = pd.isnull(content)\n",
    "            df[label] = pd.Categorical(content).as_ordered()\n",
    "            df[label] = df[label].cat.codes+1"
   ]
  },
  {
   "cell_type": "code",
   "execution_count": 25,
   "id": "306a7013-8bf8-45a9-92bc-a55d0d425e9d",
   "metadata": {},
   "outputs": [
    {
     "name": "stdout",
     "output_type": "stream",
     "text": [
      "<class 'pandas.core.frame.DataFrame'>\n",
      "Index: 412698 entries, 205615 to 409203\n",
      "Data columns (total 99 columns):\n",
      " #   Column                           Non-Null Count   Dtype  \n",
      "---  ------                           --------------   -----  \n",
      " 0   SalesID                          412698 non-null  int64  \n",
      " 1   SalePrice                        412698 non-null  float64\n",
      " 2   MachineID                        412698 non-null  int64  \n",
      " 3   ModelID                          412698 non-null  int64  \n",
      " 4   datasource                       412698 non-null  int64  \n",
      " 5   auctioneerID                     392562 non-null  float64\n",
      " 6   YearMade                         412698 non-null  int64  \n",
      " 7   MachineHoursCurrentMeter         147504 non-null  float64\n",
      " 8   UsageBand                        412698 non-null  int8   \n",
      " 9   fiModelDesc                      412698 non-null  int16  \n",
      " 10  fiBaseModel                      412698 non-null  int16  \n",
      " 11  fiSecondaryDesc                  412698 non-null  int16  \n",
      " 12  fiModelSeries                    412698 non-null  int8   \n",
      " 13  fiModelDescriptor                412698 non-null  int16  \n",
      " 14  ProductSize                      412698 non-null  int8   \n",
      " 15  fiProductClassDesc               412698 non-null  int8   \n",
      " 16  state                            412698 non-null  int8   \n",
      " 17  ProductGroup                     412698 non-null  int8   \n",
      " 18  ProductGroupDesc                 412698 non-null  int8   \n",
      " 19  Drive_System                     412698 non-null  int8   \n",
      " 20  Enclosure                        412698 non-null  int8   \n",
      " 21  Forks                            412698 non-null  int8   \n",
      " 22  Pad_Type                         412698 non-null  int8   \n",
      " 23  Ride_Control                     412698 non-null  int8   \n",
      " 24  Stick                            412698 non-null  int8   \n",
      " 25  Transmission                     412698 non-null  int8   \n",
      " 26  Turbocharged                     412698 non-null  int8   \n",
      " 27  Blade_Extension                  412698 non-null  int8   \n",
      " 28  Blade_Width                      412698 non-null  int8   \n",
      " 29  Enclosure_Type                   412698 non-null  int8   \n",
      " 30  Engine_Horsepower                412698 non-null  int8   \n",
      " 31  Hydraulics                       412698 non-null  int8   \n",
      " 32  Pushblock                        412698 non-null  int8   \n",
      " 33  Ripper                           412698 non-null  int8   \n",
      " 34  Scarifier                        412698 non-null  int8   \n",
      " 35  Tip_Control                      412698 non-null  int8   \n",
      " 36  Tire_Size                        412698 non-null  int8   \n",
      " 37  Coupler                          412698 non-null  int8   \n",
      " 38  Coupler_System                   412698 non-null  int8   \n",
      " 39  Grouser_Tracks                   412698 non-null  int8   \n",
      " 40  Hydraulics_Flow                  412698 non-null  int8   \n",
      " 41  Track_Type                       412698 non-null  int8   \n",
      " 42  Undercarriage_Pad_Width          412698 non-null  int8   \n",
      " 43  Stick_Length                     412698 non-null  int8   \n",
      " 44  Thumb                            412698 non-null  int8   \n",
      " 45  Pattern_Changer                  412698 non-null  int8   \n",
      " 46  Grouser_Type                     412698 non-null  int8   \n",
      " 47  Backhoe_Mounting                 412698 non-null  int8   \n",
      " 48  Blade_Type                       412698 non-null  int8   \n",
      " 49  Travel_Controls                  412698 non-null  int8   \n",
      " 50  Differential_Type                412698 non-null  int8   \n",
      " 51  Steering_Controls                412698 non-null  int8   \n",
      " 52  day                              412698 non-null  int32  \n",
      " 53  month                            412698 non-null  int32  \n",
      " 54  year                             412698 non-null  int32  \n",
      " 55  UsageBand_missing                412698 non-null  bool   \n",
      " 56  fiModelDesc_missing              412698 non-null  bool   \n",
      " 57  fiBaseModel_missing              412698 non-null  bool   \n",
      " 58  fiSecondaryDesc_missing          412698 non-null  bool   \n",
      " 59  fiModelSeries_missing            412698 non-null  bool   \n",
      " 60  fiModelDescriptor_missing        412698 non-null  bool   \n",
      " 61  ProductSize_missing              412698 non-null  bool   \n",
      " 62  fiProductClassDesc_missing       412698 non-null  bool   \n",
      " 63  state_missing                    412698 non-null  bool   \n",
      " 64  ProductGroup_missing             412698 non-null  bool   \n",
      " 65  ProductGroupDesc_missing         412698 non-null  bool   \n",
      " 66  Drive_System_missing             412698 non-null  bool   \n",
      " 67  Enclosure_missing                412698 non-null  bool   \n",
      " 68  Forks_missing                    412698 non-null  bool   \n",
      " 69  Pad_Type_missing                 412698 non-null  bool   \n",
      " 70  Ride_Control_missing             412698 non-null  bool   \n",
      " 71  Stick_missing                    412698 non-null  bool   \n",
      " 72  Transmission_missing             412698 non-null  bool   \n",
      " 73  Turbocharged_missing             412698 non-null  bool   \n",
      " 74  Blade_Extension_missing          412698 non-null  bool   \n",
      " 75  Blade_Width_missing              412698 non-null  bool   \n",
      " 76  Enclosure_Type_missing           412698 non-null  bool   \n",
      " 77  Engine_Horsepower_missing        412698 non-null  bool   \n",
      " 78  Hydraulics_missing               412698 non-null  bool   \n",
      " 79  Pushblock_missing                412698 non-null  bool   \n",
      " 80  Ripper_missing                   412698 non-null  bool   \n",
      " 81  Scarifier_missing                412698 non-null  bool   \n",
      " 82  Tip_Control_missing              412698 non-null  bool   \n",
      " 83  Tire_Size_missing                412698 non-null  bool   \n",
      " 84  Coupler_missing                  412698 non-null  bool   \n",
      " 85  Coupler_System_missing           412698 non-null  bool   \n",
      " 86  Grouser_Tracks_missing           412698 non-null  bool   \n",
      " 87  Hydraulics_Flow_missing          412698 non-null  bool   \n",
      " 88  Track_Type_missing               412698 non-null  bool   \n",
      " 89  Undercarriage_Pad_Width_missing  412698 non-null  bool   \n",
      " 90  Stick_Length_missing             412698 non-null  bool   \n",
      " 91  Thumb_missing                    412698 non-null  bool   \n",
      " 92  Pattern_Changer_missing          412698 non-null  bool   \n",
      " 93  Grouser_Type_missing             412698 non-null  bool   \n",
      " 94  Backhoe_Mounting_missing         412698 non-null  bool   \n",
      " 95  Blade_Type_missing               412698 non-null  bool   \n",
      " 96  Travel_Controls_missing          412698 non-null  bool   \n",
      " 97  Differential_Type_missing        412698 non-null  bool   \n",
      " 98  Steering_Controls_missing        412698 non-null  bool   \n",
      "dtypes: bool(44), float64(3), int16(4), int32(3), int64(5), int8(40)\n",
      "memory usage: 69.3 MB\n"
     ]
    }
   ],
   "source": [
    "pre_process_string_features(date_format_pd)\n",
    "date_format_pd.info()"
   ]
  },
  {
   "cell_type": "markdown",
   "id": "7e1e6ff5-f661-4dd0-af3d-b138375186a6",
   "metadata": {},
   "source": [
    "## second we can fill numeric feature with their `median`\n",
    "**why `median`?**\n",
    "  > cause `median` avoid affect of outlier"
   ]
  },
  {
   "cell_type": "code",
   "execution_count": 26,
   "id": "7998ddd3-2476-4018-8c94-d3ae0580fc94",
   "metadata": {},
   "outputs": [
    {
     "name": "stdout",
     "output_type": "stream",
     "text": [
      "SalesID\n",
      "SalePrice\n",
      "MachineID\n",
      "ModelID\n",
      "datasource\n",
      "auctioneerID\n",
      "YearMade\n",
      "MachineHoursCurrentMeter\n",
      "UsageBand\n",
      "fiModelDesc\n",
      "fiBaseModel\n",
      "fiSecondaryDesc\n",
      "fiModelSeries\n",
      "fiModelDescriptor\n",
      "ProductSize\n",
      "fiProductClassDesc\n",
      "state\n",
      "ProductGroup\n",
      "ProductGroupDesc\n",
      "Drive_System\n",
      "Enclosure\n",
      "Forks\n",
      "Pad_Type\n",
      "Ride_Control\n",
      "Stick\n",
      "Transmission\n",
      "Turbocharged\n",
      "Blade_Extension\n",
      "Blade_Width\n",
      "Enclosure_Type\n",
      "Engine_Horsepower\n",
      "Hydraulics\n",
      "Pushblock\n",
      "Ripper\n",
      "Scarifier\n",
      "Tip_Control\n",
      "Tire_Size\n",
      "Coupler\n",
      "Coupler_System\n",
      "Grouser_Tracks\n",
      "Hydraulics_Flow\n",
      "Track_Type\n",
      "Undercarriage_Pad_Width\n",
      "Stick_Length\n",
      "Thumb\n",
      "Pattern_Changer\n",
      "Grouser_Type\n",
      "Backhoe_Mounting\n",
      "Blade_Type\n",
      "Travel_Controls\n",
      "Differential_Type\n",
      "Steering_Controls\n",
      "day\n",
      "month\n",
      "year\n",
      "UsageBand_missing\n",
      "fiModelDesc_missing\n",
      "fiBaseModel_missing\n",
      "fiSecondaryDesc_missing\n",
      "fiModelSeries_missing\n",
      "fiModelDescriptor_missing\n",
      "ProductSize_missing\n",
      "fiProductClassDesc_missing\n",
      "state_missing\n",
      "ProductGroup_missing\n",
      "ProductGroupDesc_missing\n",
      "Drive_System_missing\n",
      "Enclosure_missing\n",
      "Forks_missing\n",
      "Pad_Type_missing\n",
      "Ride_Control_missing\n",
      "Stick_missing\n",
      "Transmission_missing\n",
      "Turbocharged_missing\n",
      "Blade_Extension_missing\n",
      "Blade_Width_missing\n",
      "Enclosure_Type_missing\n",
      "Engine_Horsepower_missing\n",
      "Hydraulics_missing\n",
      "Pushblock_missing\n",
      "Ripper_missing\n",
      "Scarifier_missing\n",
      "Tip_Control_missing\n",
      "Tire_Size_missing\n",
      "Coupler_missing\n",
      "Coupler_System_missing\n",
      "Grouser_Tracks_missing\n",
      "Hydraulics_Flow_missing\n",
      "Track_Type_missing\n",
      "Undercarriage_Pad_Width_missing\n",
      "Stick_Length_missing\n",
      "Thumb_missing\n",
      "Pattern_Changer_missing\n",
      "Grouser_Type_missing\n",
      "Backhoe_Mounting_missing\n",
      "Blade_Type_missing\n",
      "Travel_Controls_missing\n",
      "Differential_Type_missing\n",
      "Steering_Controls_missing\n"
     ]
    }
   ],
   "source": [
    "for label, content in date_format_pd.items():\n",
    "    if is_numeric_dtype(content):\n",
    "        print(label)"
   ]
  },
  {
   "cell_type": "code",
   "execution_count": 27,
   "id": "64e99c37-2ce7-4a95-abaf-7ea8f11ee100",
   "metadata": {},
   "outputs": [],
   "source": [
    "def fill_numeric_features(df):\n",
    "    for label, content in df.items():\n",
    "        if is_numeric_dtype(content):\n",
    "            if pd.isna(content).sum():\n",
    "                df[label+\"_missing\"] = pd.isna(content)\n",
    "                df[label] = content.fillna(content.median())"
   ]
  },
  {
   "cell_type": "code",
   "execution_count": 28,
   "id": "aa0d4b1c-11d7-4579-be91-f237f08b8852",
   "metadata": {},
   "outputs": [],
   "source": [
    "fill_numeric_features(date_format_pd)"
   ]
  },
  {
   "cell_type": "code",
   "execution_count": 29,
   "id": "2e8dac98-9e71-46d3-8b71-fdb6d76cc82b",
   "metadata": {},
   "outputs": [
    {
     "data": {
      "text/html": [
       "<div>\n",
       "<style scoped>\n",
       "    .dataframe tbody tr th:only-of-type {\n",
       "        vertical-align: middle;\n",
       "    }\n",
       "\n",
       "    .dataframe tbody tr th {\n",
       "        vertical-align: top;\n",
       "    }\n",
       "\n",
       "    .dataframe thead th {\n",
       "        text-align: right;\n",
       "    }\n",
       "</style>\n",
       "<table border=\"1\" class=\"dataframe\">\n",
       "  <thead>\n",
       "    <tr style=\"text-align: right;\">\n",
       "      <th></th>\n",
       "      <th>SalesID</th>\n",
       "      <th>SalePrice</th>\n",
       "      <th>MachineID</th>\n",
       "      <th>ModelID</th>\n",
       "      <th>datasource</th>\n",
       "      <th>auctioneerID</th>\n",
       "      <th>YearMade</th>\n",
       "      <th>MachineHoursCurrentMeter</th>\n",
       "      <th>UsageBand</th>\n",
       "      <th>fiModelDesc</th>\n",
       "      <th>...</th>\n",
       "      <th>Thumb_missing</th>\n",
       "      <th>Pattern_Changer_missing</th>\n",
       "      <th>Grouser_Type_missing</th>\n",
       "      <th>Backhoe_Mounting_missing</th>\n",
       "      <th>Blade_Type_missing</th>\n",
       "      <th>Travel_Controls_missing</th>\n",
       "      <th>Differential_Type_missing</th>\n",
       "      <th>Steering_Controls_missing</th>\n",
       "      <th>auctioneerID_missing</th>\n",
       "      <th>MachineHoursCurrentMeter_missing</th>\n",
       "    </tr>\n",
       "  </thead>\n",
       "  <tbody>\n",
       "    <tr>\n",
       "      <th>327936</th>\n",
       "      <td>2333349</td>\n",
       "      <td>12750.0</td>\n",
       "      <td>1703498</td>\n",
       "      <td>4663</td>\n",
       "      <td>136</td>\n",
       "      <td>2.0</td>\n",
       "      <td>1983</td>\n",
       "      <td>0.0</td>\n",
       "      <td>0</td>\n",
       "      <td>850</td>\n",
       "      <td>...</td>\n",
       "      <td>True</td>\n",
       "      <td>True</td>\n",
       "      <td>True</td>\n",
       "      <td>False</td>\n",
       "      <td>False</td>\n",
       "      <td>False</td>\n",
       "      <td>True</td>\n",
       "      <td>True</td>\n",
       "      <td>True</td>\n",
       "      <td>False</td>\n",
       "    </tr>\n",
       "    <tr>\n",
       "      <th>84881</th>\n",
       "      <td>1387112</td>\n",
       "      <td>25500.0</td>\n",
       "      <td>1405379</td>\n",
       "      <td>3538</td>\n",
       "      <td>132</td>\n",
       "      <td>2.0</td>\n",
       "      <td>1998</td>\n",
       "      <td>0.0</td>\n",
       "      <td>0</td>\n",
       "      <td>747</td>\n",
       "      <td>...</td>\n",
       "      <td>True</td>\n",
       "      <td>True</td>\n",
       "      <td>True</td>\n",
       "      <td>True</td>\n",
       "      <td>True</td>\n",
       "      <td>True</td>\n",
       "      <td>True</td>\n",
       "      <td>True</td>\n",
       "      <td>False</td>\n",
       "      <td>True</td>\n",
       "    </tr>\n",
       "    <tr>\n",
       "      <th>35079</th>\n",
       "      <td>1271094</td>\n",
       "      <td>9500.0</td>\n",
       "      <td>1132473</td>\n",
       "      <td>6633</td>\n",
       "      <td>132</td>\n",
       "      <td>1.0</td>\n",
       "      <td>1995</td>\n",
       "      <td>0.0</td>\n",
       "      <td>0</td>\n",
       "      <td>185</td>\n",
       "      <td>...</td>\n",
       "      <td>True</td>\n",
       "      <td>True</td>\n",
       "      <td>True</td>\n",
       "      <td>True</td>\n",
       "      <td>True</td>\n",
       "      <td>True</td>\n",
       "      <td>True</td>\n",
       "      <td>True</td>\n",
       "      <td>False</td>\n",
       "      <td>True</td>\n",
       "    </tr>\n",
       "    <tr>\n",
       "      <th>178085</th>\n",
       "      <td>1609924</td>\n",
       "      <td>26000.0</td>\n",
       "      <td>1526402</td>\n",
       "      <td>4862</td>\n",
       "      <td>132</td>\n",
       "      <td>1.0</td>\n",
       "      <td>1997</td>\n",
       "      <td>0.0</td>\n",
       "      <td>0</td>\n",
       "      <td>4574</td>\n",
       "      <td>...</td>\n",
       "      <td>True</td>\n",
       "      <td>True</td>\n",
       "      <td>True</td>\n",
       "      <td>True</td>\n",
       "      <td>True</td>\n",
       "      <td>True</td>\n",
       "      <td>False</td>\n",
       "      <td>False</td>\n",
       "      <td>False</td>\n",
       "      <td>True</td>\n",
       "    </tr>\n",
       "    <tr>\n",
       "      <th>253149</th>\n",
       "      <td>1769606</td>\n",
       "      <td>31000.0</td>\n",
       "      <td>1090205</td>\n",
       "      <td>2232</td>\n",
       "      <td>132</td>\n",
       "      <td>99.0</td>\n",
       "      <td>1996</td>\n",
       "      <td>966.0</td>\n",
       "      <td>2</td>\n",
       "      <td>3803</td>\n",
       "      <td>...</td>\n",
       "      <td>False</td>\n",
       "      <td>False</td>\n",
       "      <td>False</td>\n",
       "      <td>True</td>\n",
       "      <td>True</td>\n",
       "      <td>True</td>\n",
       "      <td>True</td>\n",
       "      <td>True</td>\n",
       "      <td>False</td>\n",
       "      <td>False</td>\n",
       "    </tr>\n",
       "  </tbody>\n",
       "</table>\n",
       "<p>5 rows × 101 columns</p>\n",
       "</div>"
      ],
      "text/plain": [
       "        SalesID  SalePrice  MachineID  ModelID  datasource  auctioneerID  \\\n",
       "327936  2333349    12750.0    1703498     4663         136           2.0   \n",
       "84881   1387112    25500.0    1405379     3538         132           2.0   \n",
       "35079   1271094     9500.0    1132473     6633         132           1.0   \n",
       "178085  1609924    26000.0    1526402     4862         132           1.0   \n",
       "253149  1769606    31000.0    1090205     2232         132          99.0   \n",
       "\n",
       "        YearMade  MachineHoursCurrentMeter  UsageBand  fiModelDesc  ...  \\\n",
       "327936      1983                       0.0          0          850  ...   \n",
       "84881       1998                       0.0          0          747  ...   \n",
       "35079       1995                       0.0          0          185  ...   \n",
       "178085      1997                       0.0          0         4574  ...   \n",
       "253149      1996                     966.0          2         3803  ...   \n",
       "\n",
       "        Thumb_missing  Pattern_Changer_missing  Grouser_Type_missing  \\\n",
       "327936           True                     True                  True   \n",
       "84881            True                     True                  True   \n",
       "35079            True                     True                  True   \n",
       "178085           True                     True                  True   \n",
       "253149          False                    False                 False   \n",
       "\n",
       "        Backhoe_Mounting_missing  Blade_Type_missing  Travel_Controls_missing  \\\n",
       "327936                     False               False                    False   \n",
       "84881                       True                True                     True   \n",
       "35079                       True                True                     True   \n",
       "178085                      True                True                     True   \n",
       "253149                      True                True                     True   \n",
       "\n",
       "        Differential_Type_missing  Steering_Controls_missing  \\\n",
       "327936                       True                       True   \n",
       "84881                        True                       True   \n",
       "35079                        True                       True   \n",
       "178085                      False                      False   \n",
       "253149                       True                       True   \n",
       "\n",
       "        auctioneerID_missing  MachineHoursCurrentMeter_missing  \n",
       "327936                  True                             False  \n",
       "84881                  False                              True  \n",
       "35079                  False                              True  \n",
       "178085                 False                              True  \n",
       "253149                 False                             False  \n",
       "\n",
       "[5 rows x 101 columns]"
      ]
     },
     "execution_count": 29,
     "metadata": {},
     "output_type": "execute_result"
    }
   ],
   "source": [
    "date_format_pd.sample(5)"
   ]
  },
  {
   "cell_type": "code",
   "execution_count": 30,
   "id": "945fac42-80e7-4388-a5ed-b9ba111c7109",
   "metadata": {},
   "outputs": [
    {
     "name": "stdout",
     "output_type": "stream",
     "text": [
      "<class 'pandas.core.frame.DataFrame'>\n",
      "Index: 412698 entries, 205615 to 409203\n",
      "Columns: 101 entries, SalesID to MachineHoursCurrentMeter_missing\n",
      "dtypes: bool(46), float64(3), int16(4), int32(3), int64(5), int8(40)\n",
      "memory usage: 70.1 MB\n"
     ]
    }
   ],
   "source": [
    "date_format_pd.info()"
   ]
  },
  {
   "cell_type": "code",
   "execution_count": 31,
   "id": "43811486-096c-44d0-8e28-a1c7f71413ed",
   "metadata": {},
   "outputs": [
    {
     "data": {
      "text/plain": [
       "SalesID                             0\n",
       "SalePrice                           0\n",
       "MachineID                           0\n",
       "ModelID                             0\n",
       "datasource                          0\n",
       "                                   ..\n",
       "Travel_Controls_missing             0\n",
       "Differential_Type_missing           0\n",
       "Steering_Controls_missing           0\n",
       "auctioneerID_missing                0\n",
       "MachineHoursCurrentMeter_missing    0\n",
       "Length: 101, dtype: int64"
      ]
     },
     "execution_count": 31,
     "metadata": {},
     "output_type": "execute_result"
    }
   ],
   "source": [
    "date_format_pd.isna().sum()"
   ]
  },
  {
   "cell_type": "markdown",
   "id": "aad6c5f5-84b9-4eb8-988f-2dcd35df4f1e",
   "metadata": {},
   "source": [
    "# a little conclusion :\n",
    "**now we have a preprocessed data, all of our data:**\n",
    "* have a value\n",
    "* have a numeric type\n",
    "\n",
    "**let's save this data frame**"
   ]
  },
  {
   "cell_type": "code",
   "execution_count": 32,
   "id": "450e176e-9ca2-4d08-810a-b0ae72a54859",
   "metadata": {},
   "outputs": [],
   "source": [
    "date_format_pd.to_csv(\"data/bluebook-for-bulldozers/pure_train_valid_data.csv\", index=False)"
   ]
  },
  {
   "cell_type": "code",
   "execution_count": 2,
   "id": "36f065b2-2cdb-4517-8b51-f623551e7be5",
   "metadata": {},
   "outputs": [],
   "source": [
    "pure_pd = pd.read_csv(\"data/bluebook-for-bulldozers/pure_train_valid_data.csv\", low_memory=False)"
   ]
  },
  {
   "cell_type": "code",
   "execution_count": 3,
   "id": "be2fe621-9d35-4442-a9a1-0dd394fcc7c5",
   "metadata": {},
   "outputs": [
    {
     "name": "stdout",
     "output_type": "stream",
     "text": [
      "<class 'pandas.core.frame.DataFrame'>\n",
      "RangeIndex: 412698 entries, 0 to 412697\n",
      "Columns: 101 entries, SalesID to MachineHoursCurrentMeter_missing\n",
      "dtypes: bool(46), float64(3), int64(52)\n",
      "memory usage: 191.3 MB\n"
     ]
    }
   ],
   "source": [
    "pure_pd.info()"
   ]
  },
  {
   "cell_type": "markdown",
   "id": "4cbeb2c8-19b9-4bf9-9459-8285a8db6e95",
   "metadata": {},
   "source": [
    "## Cause we have lots of fields, it is better to continue **EDA** in `Model-Driven-Design`"
   ]
  },
  {
   "cell_type": "markdown",
   "id": "bf62a95f-0bcb-4527-9e4f-31d30b47d93e",
   "metadata": {},
   "source": [
    "# Modeling\n",
    "based on the **https://scikit-learn.org/stable/tutorial/machine_learning_map/index.html** , we can choose our model, i want to use `Ensemble Regression`, Because it is **efficient** in any case and also it match with our needs for this problem"
   ]
  },
  {
   "cell_type": "code",
   "execution_count": 4,
   "id": "32b3cebb-15ef-462a-8286-439b86c53c32",
   "metadata": {},
   "outputs": [],
   "source": [
    "from sklearn.ensemble import RandomForestRegressor\n",
    "from sklearn.model_selection import train_test_split"
   ]
  },
  {
   "cell_type": "code",
   "execution_count": 5,
   "id": "e5e35154-434d-4f9f-b29c-0c3b9038c23b",
   "metadata": {},
   "outputs": [
    {
     "data": {
      "text/plain": [
       "412698"
      ]
     },
     "execution_count": 5,
     "metadata": {},
     "output_type": "execute_result"
    }
   ],
   "source": [
    "len(pure_pd)"
   ]
  },
  {
   "cell_type": "code",
   "execution_count": 6,
   "id": "fe40f6db-6b28-4af9-a332-7013629f86c4",
   "metadata": {},
   "outputs": [
    {
     "data": {
      "text/plain": [
       "Index(['SalesID', 'SalePrice', 'MachineID', 'ModelID', 'datasource',\n",
       "       'auctioneerID', 'YearMade', 'MachineHoursCurrentMeter', 'UsageBand',\n",
       "       'fiModelDesc',\n",
       "       ...\n",
       "       'Thumb_missing', 'Pattern_Changer_missing', 'Grouser_Type_missing',\n",
       "       'Backhoe_Mounting_missing', 'Blade_Type_missing',\n",
       "       'Travel_Controls_missing', 'Differential_Type_missing',\n",
       "       'Steering_Controls_missing', 'auctioneerID_missing',\n",
       "       'MachineHoursCurrentMeter_missing'],\n",
       "      dtype='object', length=101)"
      ]
     },
     "execution_count": 6,
     "metadata": {},
     "output_type": "execute_result"
    }
   ],
   "source": [
    "pure_pd.columns"
   ]
  },
  {
   "cell_type": "code",
   "execution_count": 7,
   "id": "a804ac70-2fe4-4c23-9140-6b32e108077c",
   "metadata": {},
   "outputs": [],
   "source": [
    "X = pure_pd.drop(\"SalePrice\", axis=1)\n",
    "y = pure_pd[\"SalePrice\"]"
   ]
  },
  {
   "cell_type": "markdown",
   "id": "5b9cca3b-71c0-4e50-ab62-d656ab7930dc",
   "metadata": {},
   "source": [
    "### we can split `412698` data to **train** & **validation** datas"
   ]
  },
  {
   "cell_type": "markdown",
   "id": "46708592-45c5-4ccb-aa12-b1232d9ee3d5",
   "metadata": {},
   "source": [
    "## 2.Data\n",
    ">The data for this problem is split into three parts:\n",
    ">* `Train.csv` is the training set, which contains data through the end of 2011.\n",
    ">* `Valid.csv` is the validation set, which contains data from January 1, 2012 - April 30, 2012.\n",
    ">* `Test.csv` is the test set, It contains data from May 1, 2012 - November 2012.\n",
    ">also you can access the data from 👉🏼 : **https://www.kaggle.com/competitions/bluebook-for-bulldozers/data**"
   ]
  },
  {
   "cell_type": "markdown",
   "id": "3b61b60a-c57f-48e9-9f50-d87ae57f898b",
   "metadata": {},
   "source": [
    "we can using **train_test_split** to achieve that, but the thing is, based on **above👆** info, we can do this process by hand"
   ]
  },
  {
   "cell_type": "code",
   "execution_count": 8,
   "id": "11124f27-c305-481c-9145-3f9a94947417",
   "metadata": {},
   "outputs": [
    {
     "data": {
      "image/png": "[encoded data removed]",
      "text/plain": [
       "<Figure size 640x480 with 1 Axes>"
      ]
     },
     "metadata": {},
     "output_type": "display_data"
    }
   ],
   "source": [
    "pure_pd[\"year\"].value_counts().sort_index().plot(kind=\"barh\", color=\"salmon\");\n",
    "plt.xlabel(\"Count OF Bulldozers\");"
   ]
  },
  {
   "cell_type": "code",
   "execution_count": 9,
   "id": "b84f7428-7191-4430-b89f-7bb228cf8e49",
   "metadata": {},
   "outputs": [],
   "source": [
    "train_pd = pure_pd[pure_pd.year <= 2011]\n",
    "valid_pd = pure_pd[pure_pd.year > 2011]"
   ]
  },
  {
   "cell_type": "code",
   "execution_count": 10,
   "id": "e298a94c-d666-4cea-9aeb-4f82296b3887",
   "metadata": {},
   "outputs": [
    {
     "name": "stdout",
     "output_type": "stream",
     "text": [
      "Train Data: 401125 => X : 401125, y: 401125\n",
      "Valid Data: 11573 => X : 11573, y: 11573\n"
     ]
    }
   ],
   "source": [
    "#X_train, X_valid, y_train, y_valid = train_test_split(X, y, test_size=0.2, random_state=42)\n",
    "\n",
    "X_train = train_pd.drop(\"SalePrice\", axis=1)\n",
    "X_valid = valid_pd.drop(\"SalePrice\", axis=1)\n",
    "y_train = train_pd[\"SalePrice\"]\n",
    "y_valid = valid_pd[\"SalePrice\"]\n",
    "\n",
    "print(f\"Train Data: {len(train_pd)} => X : {len(X_train)}, y: {len(y_train)}\")\n",
    "print(f\"Valid Data: {len(valid_pd)} => X : {len(X_valid)}, y: {len(y_valid)}\")"
   ]
  },
  {
   "cell_type": "markdown",
   "id": "527ea1a6-c0d1-4609-8b70-15e674f9be14",
   "metadata": {},
   "source": [
    "**Fitting The Model**"
   ]
  },
  {
   "cell_type": "code",
   "execution_count": 40,
   "id": "8de5dd22-dab8-4083-b6ad-e7f6c1fc964a",
   "metadata": {},
   "outputs": [
    {
     "data": {
      "text/html": [
       "<style>#sk-container-id-9 {color: black;}#sk-container-id-9 pre{padding: 0;}#sk-container-id-9 div.sk-toggleable {background-color: white;}#sk-container-id-9 label.sk-toggleable__label {cursor: pointer;display: block;width: 100%;margin-bottom: 0;padding: 0.3em;box-sizing: border-box;text-align: center;}#sk-container-id-9 label.sk-toggleable__label-arrow:before {content: \"▸\";float: left;margin-right: 0.25em;color: #696969;}#sk-container-id-9 label.sk-toggleable__label-arrow:hover:before {color: black;}#sk-container-id-9 div.sk-estimator:hover label.sk-toggleable__label-arrow:before {color: black;}#sk-container-id-9 div.sk-toggleable__content {max-height: 0;max-width: 0;overflow: hidden;text-align: left;background-color: #f0f8ff;}#sk-container-id-9 div.sk-toggleable__content pre {margin: 0.2em;color: black;border-radius: 0.25em;background-color: #f0f8ff;}#sk-container-id-9 input.sk-toggleable__control:checked~div.sk-toggleable__content {max-height: 200px;max-width: 100%;overflow: auto;}#sk-container-id-9 input.sk-toggleable__control:checked~label.sk-toggleable__label-arrow:before {content: \"▾\";}#sk-container-id-9 div.sk-estimator input.sk-toggleable__control:checked~label.sk-toggleable__label {background-color: #d4ebff;}#sk-container-id-9 div.sk-label input.sk-toggleable__control:checked~label.sk-toggleable__label {background-color: #d4ebff;}#sk-container-id-9 input.sk-hidden--visually {border: 0;clip: rect(1px 1px 1px 1px);clip: rect(1px, 1px, 1px, 1px);height: 1px;margin: -1px;overflow: hidden;padding: 0;position: absolute;width: 1px;}#sk-container-id-9 div.sk-estimator {font-family: monospace;background-color: #f0f8ff;border: 1px dotted black;border-radius: 0.25em;box-sizing: border-box;margin-bottom: 0.5em;}#sk-container-id-9 div.sk-estimator:hover {background-color: #d4ebff;}#sk-container-id-9 div.sk-parallel-item::after {content: \"\";width: 100%;border-bottom: 1px solid gray;flex-grow: 1;}#sk-container-id-9 div.sk-label:hover label.sk-toggleable__label {background-color: #d4ebff;}#sk-container-id-9 div.sk-serial::before {content: \"\";position: absolute;border-left: 1px solid gray;box-sizing: border-box;top: 0;bottom: 0;left: 50%;z-index: 0;}#sk-container-id-9 div.sk-serial {display: flex;flex-direction: column;align-items: center;background-color: white;padding-right: 0.2em;padding-left: 0.2em;position: relative;}#sk-container-id-9 div.sk-item {position: relative;z-index: 1;}#sk-container-id-9 div.sk-parallel {display: flex;align-items: stretch;justify-content: center;background-color: white;position: relative;}#sk-container-id-9 div.sk-item::before, #sk-container-id-9 div.sk-parallel-item::before {content: \"\";position: absolute;border-left: 1px solid gray;box-sizing: border-box;top: 0;bottom: 0;left: 50%;z-index: -1;}#sk-container-id-9 div.sk-parallel-item {display: flex;flex-direction: column;z-index: 1;position: relative;background-color: white;}#sk-container-id-9 div.sk-parallel-item:first-child::after {align-self: flex-end;width: 50%;}#sk-container-id-9 div.sk-parallel-item:last-child::after {align-self: flex-start;width: 50%;}#sk-container-id-9 div.sk-parallel-item:only-child::after {width: 0;}#sk-container-id-9 div.sk-dashed-wrapped {border: 1px dashed gray;margin: 0 0.4em 0.5em 0.4em;box-sizing: border-box;padding-bottom: 0.4em;background-color: white;}#sk-container-id-9 div.sk-label label {font-family: monospace;font-weight: bold;display: inline-block;line-height: 1.2em;}#sk-container-id-9 div.sk-label-container {text-align: center;}#sk-container-id-9 div.sk-container {/* jupyter's `normalize.less` sets `[hidden] { display: none; }` but bootstrap.min.css set `[hidden] { display: none !important; }` so we also need the `!important` here to be able to override the default hidden behavior on the sphinx rendered scikit-learn.org. See: https://github.com/scikit-learn/scikit-learn/issues/21755 */display: inline-block !important;position: relative;}#sk-container-id-9 div.sk-text-repr-fallback {display: none;}</style><div id=\"sk-container-id-9\" class=\"sk-top-container\"><div class=\"sk-text-repr-fallback\"><pre>RandomForestRegressor(n_jobs=-1, random_state=42)</pre><b>In a Jupyter environment, please rerun this cell to show the HTML representation or trust the notebook. <br />On GitHub, the HTML representation is unable to render, please try loading this page with nbviewer.org.</b></div><div class=\"sk-container\" hidden><div class=\"sk-item\"><div class=\"sk-estimator sk-toggleable\"><input class=\"sk-toggleable__control sk-hidden--visually\" id=\"sk-estimator-id-11\" type=\"checkbox\" checked><label for=\"sk-estimator-id-11\" class=\"sk-toggleable__label sk-toggleable__label-arrow\">RandomForestRegressor</label><div class=\"sk-toggleable__content\"><pre>RandomForestRegressor(n_jobs=-1, random_state=42)</pre></div></div></div></div></div>"
      ],
      "text/plain": [
       "RandomForestRegressor(n_jobs=-1, random_state=42)"
      ]
     },
     "execution_count": 40,
     "metadata": {},
     "output_type": "execute_result"
    }
   ],
   "source": [
    "model = RandomForestRegressor(random_state=42, n_jobs=-1)\n",
    "model.fit(X_train, y_train)"
   ]
  },
  {
   "cell_type": "markdown",
   "id": "0e5bd1d4-6018-450d-8476-17187a00a66f",
   "metadata": {},
   "source": [
    "**let's make a general validation function for our problem**"
   ]
  },
  {
   "cell_type": "markdown",
   "id": "99f077a5-16ee-481f-b34a-2e6377371eb5",
   "metadata": {},
   "source": [
    "## Evaluation\n",
    ">The evaluation metric for this competition is the RMSLE (root mean squared log error) between the actual and predicted auction prices."
   ]
  },
  {
   "cell_type": "code",
   "execution_count": 11,
   "id": "669d7d4b-20f8-4e55-b566-c41f8d3c5aec",
   "metadata": {},
   "outputs": [],
   "source": [
    "from sklearn.metrics import mean_absolute_error, mean_squared_log_error, r2_score"
   ]
  },
  {
   "cell_type": "code",
   "execution_count": 12,
   "id": "24c595d2-0e33-447f-ac53-f5961fd51fa7",
   "metadata": {},
   "outputs": [],
   "source": [
    "def evaluate(the_model):\n",
    "    \"\"\"\n",
    "    this func gives model as an parameter\n",
    "    & evaluates on that\n",
    "    \"\"\"\n",
    "    y_train_preds = the_model.predict(X_train)\n",
    "    y_valid_preds = the_model.predict(X_valid)\n",
    "\n",
    "    train_r2 = r2_score(y_train, y_train_preds)\n",
    "    valid_r2 = r2_score(y_valid, y_valid_preds)\n",
    "\n",
    "    train_mae = mean_absolute_error(y_train, y_train_preds)\n",
    "    valid_mae = mean_absolute_error(y_valid, y_valid_preds)\n",
    "\n",
    "    train_msle = mean_squared_log_error(y_train, y_train_preds)\n",
    "    valid_msle = mean_squared_log_error(y_valid, y_valid_preds)\n",
    "    \n",
    "    train_rmsle = np.sqrt(train_msle)\n",
    "    valid_rmsle = np.sqrt(valid_msle)\n",
    "\n",
    "    print(f\"Train MAE: {train_mae}\\nValid MAE: {valid_mae}\")\n",
    "    print(f\"Train RMSLE: {train_rmsle}\\nValid RMSLE: {valid_rmsle}\")\n",
    "    print(f\"Train R2: {train_r2}\\nValid_R2: {valid_r2}\")\n",
    "\n",
    "    return {\n",
    "        \"Train\": {\n",
    "            \"MAE\" : train_mae,\n",
    "            \"RMSLE\" : train_rmsle,\n",
    "            \"R2\" : train_r2\n",
    "        },\n",
    "\n",
    "        \"Valid\": {\n",
    "            \"MAE\" : valid_mae,\n",
    "            \"RMSLE\" : valid_rmsle,\n",
    "            \"R2\" : valid_r2\n",
    "        }\n",
    "    }"
   ]
  },
  {
   "cell_type": "code",
   "execution_count": 41,
   "id": "4e933155-5ab8-4c2e-b484-7e0b7ac5463a",
   "metadata": {},
   "outputs": [
    {
     "name": "stdout",
     "output_type": "stream",
     "text": [
      "Train MAE: 1583.250101090682\n",
      "Valid MAE: 6093.99870387972\n",
      "Train RMSLE: 0.08433503824950477\n",
      "Valid RMSLE: 0.25355992405786376\n",
      "Train R2: 0.9874743400311754\n",
      "Valid_R2: 0.873335811909276\n"
     ]
    }
   ],
   "source": [
    "normal_model_scores = evaluate(model)"
   ]
  },
  {
   "cell_type": "markdown",
   "id": "43328d64-d3bd-4300-aa6f-05952342831a",
   "metadata": {},
   "source": [
    "## Such WOW!\n",
    "Our `model` performed well, But what if we tune it and make it as good as we can."
   ]
  },
  {
   "cell_type": "markdown",
   "id": "ed2c599d-2161-44dd-91ae-0ee82a12fde6",
   "metadata": {},
   "source": [
    "there's a thing, **process time is a little bit annoying**, what if we use **part of our train data not all of it**"
   ]
  },
  {
   "cell_type": "code",
   "execution_count": 42,
   "id": "c5fef8da-ca4a-4620-b630-0db153b90d48",
   "metadata": {},
   "outputs": [
    {
     "data": {
      "text/html": [
       "<style>#sk-container-id-10 {color: black;}#sk-container-id-10 pre{padding: 0;}#sk-container-id-10 div.sk-toggleable {background-color: white;}#sk-container-id-10 label.sk-toggleable__label {cursor: pointer;display: block;width: 100%;margin-bottom: 0;padding: 0.3em;box-sizing: border-box;text-align: center;}#sk-container-id-10 label.sk-toggleable__label-arrow:before {content: \"▸\";float: left;margin-right: 0.25em;color: #696969;}#sk-container-id-10 label.sk-toggleable__label-arrow:hover:before {color: black;}#sk-container-id-10 div.sk-estimator:hover label.sk-toggleable__label-arrow:before {color: black;}#sk-container-id-10 div.sk-toggleable__content {max-height: 0;max-width: 0;overflow: hidden;text-align: left;background-color: #f0f8ff;}#sk-container-id-10 div.sk-toggleable__content pre {margin: 0.2em;color: black;border-radius: 0.25em;background-color: #f0f8ff;}#sk-container-id-10 input.sk-toggleable__control:checked~div.sk-toggleable__content {max-height: 200px;max-width: 100%;overflow: auto;}#sk-container-id-10 input.sk-toggleable__control:checked~label.sk-toggleable__label-arrow:before {content: \"▾\";}#sk-container-id-10 div.sk-estimator input.sk-toggleable__control:checked~label.sk-toggleable__label {background-color: #d4ebff;}#sk-container-id-10 div.sk-label input.sk-toggleable__control:checked~label.sk-toggleable__label {background-color: #d4ebff;}#sk-container-id-10 input.sk-hidden--visually {border: 0;clip: rect(1px 1px 1px 1px);clip: rect(1px, 1px, 1px, 1px);height: 1px;margin: -1px;overflow: hidden;padding: 0;position: absolute;width: 1px;}#sk-container-id-10 div.sk-estimator {font-family: monospace;background-color: #f0f8ff;border: 1px dotted black;border-radius: 0.25em;box-sizing: border-box;margin-bottom: 0.5em;}#sk-container-id-10 div.sk-estimator:hover {background-color: #d4ebff;}#sk-container-id-10 div.sk-parallel-item::after {content: \"\";width: 100%;border-bottom: 1px solid gray;flex-grow: 1;}#sk-container-id-10 div.sk-label:hover label.sk-toggleable__label {background-color: #d4ebff;}#sk-container-id-10 div.sk-serial::before {content: \"\";position: absolute;border-left: 1px solid gray;box-sizing: border-box;top: 0;bottom: 0;left: 50%;z-index: 0;}#sk-container-id-10 div.sk-serial {display: flex;flex-direction: column;align-items: center;background-color: white;padding-right: 0.2em;padding-left: 0.2em;position: relative;}#sk-container-id-10 div.sk-item {position: relative;z-index: 1;}#sk-container-id-10 div.sk-parallel {display: flex;align-items: stretch;justify-content: center;background-color: white;position: relative;}#sk-container-id-10 div.sk-item::before, #sk-container-id-10 div.sk-parallel-item::before {content: \"\";position: absolute;border-left: 1px solid gray;box-sizing: border-box;top: 0;bottom: 0;left: 50%;z-index: -1;}#sk-container-id-10 div.sk-parallel-item {display: flex;flex-direction: column;z-index: 1;position: relative;background-color: white;}#sk-container-id-10 div.sk-parallel-item:first-child::after {align-self: flex-end;width: 50%;}#sk-container-id-10 div.sk-parallel-item:last-child::after {align-self: flex-start;width: 50%;}#sk-container-id-10 div.sk-parallel-item:only-child::after {width: 0;}#sk-container-id-10 div.sk-dashed-wrapped {border: 1px dashed gray;margin: 0 0.4em 0.5em 0.4em;box-sizing: border-box;padding-bottom: 0.4em;background-color: white;}#sk-container-id-10 div.sk-label label {font-family: monospace;font-weight: bold;display: inline-block;line-height: 1.2em;}#sk-container-id-10 div.sk-label-container {text-align: center;}#sk-container-id-10 div.sk-container {/* jupyter's `normalize.less` sets `[hidden] { display: none; }` but bootstrap.min.css set `[hidden] { display: none !important; }` so we also need the `!important` here to be able to override the default hidden behavior on the sphinx rendered scikit-learn.org. See: https://github.com/scikit-learn/scikit-learn/issues/21755 */display: inline-block !important;position: relative;}#sk-container-id-10 div.sk-text-repr-fallback {display: none;}</style><div id=\"sk-container-id-10\" class=\"sk-top-container\"><div class=\"sk-text-repr-fallback\"><pre>RandomForestRegressor(max_samples=10000, n_jobs=-1, random_state=42)</pre><b>In a Jupyter environment, please rerun this cell to show the HTML representation or trust the notebook. <br />On GitHub, the HTML representation is unable to render, please try loading this page with nbviewer.org.</b></div><div class=\"sk-container\" hidden><div class=\"sk-item\"><div class=\"sk-estimator sk-toggleable\"><input class=\"sk-toggleable__control sk-hidden--visually\" id=\"sk-estimator-id-12\" type=\"checkbox\" checked><label for=\"sk-estimator-id-12\" class=\"sk-toggleable__label sk-toggleable__label-arrow\">RandomForestRegressor</label><div class=\"sk-toggleable__content\"><pre>RandomForestRegressor(max_samples=10000, n_jobs=-1, random_state=42)</pre></div></div></div></div></div>"
      ],
      "text/plain": [
       "RandomForestRegressor(max_samples=10000, n_jobs=-1, random_state=42)"
      ]
     },
     "execution_count": 42,
     "metadata": {},
     "output_type": "execute_result"
    }
   ],
   "source": [
    "little_model = RandomForestRegressor(n_jobs=-1, random_state=42, max_samples=10000)\n",
    "little_model.fit(X_train, y_train)"
   ]
  },
  {
   "cell_type": "code",
   "execution_count": 43,
   "id": "4f12cfe3-b2b5-40a2-8915-c015ed5b683c",
   "metadata": {},
   "outputs": [
    {
     "name": "stdout",
     "output_type": "stream",
     "text": [
      "Train MAE: 5530.532661988156\n",
      "Valid MAE: 7084.742282035772\n",
      "Train RMSLE: 0.2565009178845695\n",
      "Valid RMSLE: 0.28943462524665087\n",
      "Train R2: 0.8620106147235636\n",
      "Valid_R2: 0.834805362161608\n"
     ]
    }
   ],
   "source": [
    "little_model_scores = evaluate(little_model)"
   ]
  },
  {
   "cell_type": "code",
   "execution_count": 44,
   "id": "6870f4df-0854-4f62-91f4-8795475e4044",
   "metadata": {},
   "outputs": [],
   "source": [
    "normal_model_pd = pd.DataFrame(normal_model_scores).T\n",
    "little_model_pd = pd.DataFrame(little_model_scores).T"
   ]
  },
  {
   "cell_type": "code",
   "execution_count": 45,
   "id": "69d3e6d5-5e65-427d-994e-3c80cc23acd0",
   "metadata": {},
   "outputs": [
    {
     "data": {
      "text/html": [
       "<div>\n",
       "<style scoped>\n",
       "    .dataframe tbody tr th:only-of-type {\n",
       "        vertical-align: middle;\n",
       "    }\n",
       "\n",
       "    .dataframe tbody tr th {\n",
       "        vertical-align: top;\n",
       "    }\n",
       "\n",
       "    .dataframe thead th {\n",
       "        text-align: right;\n",
       "    }\n",
       "</style>\n",
       "<table border=\"1\" class=\"dataframe\">\n",
       "  <thead>\n",
       "    <tr style=\"text-align: right;\">\n",
       "      <th></th>\n",
       "      <th>MAE</th>\n",
       "      <th>RMSLE</th>\n",
       "      <th>R2</th>\n",
       "    </tr>\n",
       "  </thead>\n",
       "  <tbody>\n",
       "    <tr>\n",
       "      <th>Train</th>\n",
       "      <td>1583.250101</td>\n",
       "      <td>0.084335</td>\n",
       "      <td>0.987474</td>\n",
       "    </tr>\n",
       "    <tr>\n",
       "      <th>Valid</th>\n",
       "      <td>6093.998704</td>\n",
       "      <td>0.253560</td>\n",
       "      <td>0.873336</td>\n",
       "    </tr>\n",
       "  </tbody>\n",
       "</table>\n",
       "</div>"
      ],
      "text/plain": [
       "               MAE     RMSLE        R2\n",
       "Train  1583.250101  0.084335  0.987474\n",
       "Valid  6093.998704  0.253560  0.873336"
      ]
     },
     "execution_count": 45,
     "metadata": {},
     "output_type": "execute_result"
    }
   ],
   "source": [
    "normal_model_pd"
   ]
  },
  {
   "cell_type": "code",
   "execution_count": 46,
   "id": "bd93adb8-acb2-43de-b772-70aec3229968",
   "metadata": {},
   "outputs": [
    {
     "data": {
      "image/png": "[encoded data removed]",
      "text/plain": [
       "<Figure size 2500x1000 with 2 Axes>"
      ]
     },
     "metadata": {},
     "output_type": "display_data"
    }
   ],
   "source": [
    "plt.subplot(1, 2, 1)\n",
    "normal_model_pd[\"RMSLE\"].plot(kind=\"bar\",color=\"salmon\",figsize=(25,10));\n",
    "\n",
    "plt.grid()\n",
    "plt.xticks(rotation=0)\n",
    "plt.title(\"RMSLE Of Normal Model\");\n",
    "\n",
    "plt.subplot(1, 2, 2)\n",
    "little_model_pd[\"RMSLE\"].plot(kind=\"bar\" ,color=\"salmon\")\n",
    "\n",
    "plt.grid()\n",
    "plt.xticks(rotation=0)\n",
    "plt.title(\"RMSLE Of Little Model\");"
   ]
  },
  {
   "cell_type": "markdown",
   "id": "23742d6c-8048-466f-a36e-2646f0c72dbc",
   "metadata": {},
   "source": [
    "it's make sense , since we used **part of our train data**, its **power on predicting** train data is worse in little model.\n",
    "### from now, we continue with little one"
   ]
  },
  {
   "cell_type": "code",
   "execution_count": 15,
   "id": "a377de52-1772-4b55-89d0-8bd34723bb75",
   "metadata": {},
   "outputs": [],
   "source": [
    "from sklearn.model_selection import GridSearchCV"
   ]
  },
  {
   "cell_type": "code",
   "execution_count": 17,
   "id": "92c30ba0-aa07-4b22-acb7-1e5f13123d93",
   "metadata": {},
   "outputs": [
    {
     "name": "stdout",
     "output_type": "stream",
     "text": [
      "Fitting 3 folds for each of 36 candidates, totalling 108 fits\n",
      "[CV] END max_depth=None, max_features=0.5, max_samples=10000, min_samples_leaf=1, n_estimators=100; total time=  16.0s\n",
      "[CV] END max_depth=None, max_features=0.5, max_samples=10000, min_samples_leaf=3, n_estimators=100; total time=  13.1s\n",
      "[CV] END max_depth=None, max_features=0.5, max_samples=10000, min_samples_leaf=4, n_estimators=40; total time=   5.6s\n",
      "[CV] END max_depth=None, max_features=0.5, max_samples=10000, min_samples_leaf=4, n_estimators=100; total time=  12.2s\n",
      "[CV] END max_depth=10, max_features=0.5, max_samples=10000, min_samples_leaf=1, n_estimators=100; total time=  10.9s\n",
      "[CV] END max_depth=10, max_features=0.5, max_samples=10000, min_samples_leaf=1, n_estimators=200; total time=  19.5s\n",
      "[CV] END max_depth=10, max_features=0.5, max_samples=10000, min_samples_leaf=4, n_estimators=200; total time=  21.2s\n",
      "[CV] END max_depth=20, max_features=0.5, max_samples=10000, min_samples_leaf=1, n_estimators=200; total time=  31.5s\n",
      "[CV] END max_depth=20, max_features=0.5, max_samples=10000, min_samples_leaf=4, n_estimators=100; total time=  13.1s\n",
      "[CV] END max_depth=30, max_features=0.5, max_samples=10000, min_samples_leaf=1, n_estimators=100; total time=  16.8s\n",
      "[CV] END max_depth=30, max_features=0.5, max_samples=10000, min_samples_leaf=3, n_estimators=40; total time=   6.2s\n",
      "[CV] END max_depth=30, max_features=0.5, max_samples=10000, min_samples_leaf=3, n_estimators=200; total time=  27.2s\n",
      "[CV] END max_depth=30, max_features=0.5, max_samples=10000, min_samples_leaf=4, n_estimators=200; total time=  11.2s\n"
     ]
    },
    {
     "data": {
      "text/html": [
       "<style>#sk-container-id-2 {color: black;}#sk-container-id-2 pre{padding: 0;}#sk-container-id-2 div.sk-toggleable {background-color: white;}#sk-container-id-2 label.sk-toggleable__label {cursor: pointer;display: block;width: 100%;margin-bottom: 0;padding: 0.3em;box-sizing: border-box;text-align: center;}#sk-container-id-2 label.sk-toggleable__label-arrow:before {content: \"▸\";float: left;margin-right: 0.25em;color: #696969;}#sk-container-id-2 label.sk-toggleable__label-arrow:hover:before {color: black;}#sk-container-id-2 div.sk-estimator:hover label.sk-toggleable__label-arrow:before {color: black;}#sk-container-id-2 div.sk-toggleable__content {max-height: 0;max-width: 0;overflow: hidden;text-align: left;background-color: #f0f8ff;}#sk-container-id-2 div.sk-toggleable__content pre {margin: 0.2em;color: black;border-radius: 0.25em;background-color: #f0f8ff;}#sk-container-id-2 input.sk-toggleable__control:checked~div.sk-toggleable__content {max-height: 200px;max-width: 100%;overflow: auto;}#sk-container-id-2 input.sk-toggleable__control:checked~label.sk-toggleable__label-arrow:before {content: \"▾\";}#sk-container-id-2 div.sk-estimator input.sk-toggleable__control:checked~label.sk-toggleable__label {background-color: #d4ebff;}#sk-container-id-2 div.sk-label input.sk-toggleable__control:checked~label.sk-toggleable__label {background-color: #d4ebff;}#sk-container-id-2 input.sk-hidden--visually {border: 0;clip: rect(1px 1px 1px 1px);clip: rect(1px, 1px, 1px, 1px);height: 1px;margin: -1px;overflow: hidden;padding: 0;position: absolute;width: 1px;}#sk-container-id-2 div.sk-estimator {font-family: monospace;background-color: #f0f8ff;border: 1px dotted black;border-radius: 0.25em;box-sizing: border-box;margin-bottom: 0.5em;}#sk-container-id-2 div.sk-estimator:hover {background-color: #d4ebff;}#sk-container-id-2 div.sk-parallel-item::after {content: \"\";width: 100%;border-bottom: 1px solid gray;flex-grow: 1;}#sk-container-id-2 div.sk-label:hover label.sk-toggleable__label {background-color: #d4ebff;}#sk-container-id-2 div.sk-serial::before {content: \"\";position: absolute;border-left: 1px solid gray;box-sizing: border-box;top: 0;bottom: 0;left: 50%;z-index: 0;}#sk-container-id-2 div.sk-serial {display: flex;flex-direction: column;align-items: center;background-color: white;padding-right: 0.2em;padding-left: 0.2em;position: relative;}#sk-container-id-2 div.sk-item {position: relative;z-index: 1;}#sk-container-id-2 div.sk-parallel {display: flex;align-items: stretch;justify-content: center;background-color: white;position: relative;}#sk-container-id-2 div.sk-item::before, #sk-container-id-2 div.sk-parallel-item::before {content: \"\";position: absolute;border-left: 1px solid gray;box-sizing: border-box;top: 0;bottom: 0;left: 50%;z-index: -1;}#sk-container-id-2 div.sk-parallel-item {display: flex;flex-direction: column;z-index: 1;position: relative;background-color: white;}#sk-container-id-2 div.sk-parallel-item:first-child::after {align-self: flex-end;width: 50%;}#sk-container-id-2 div.sk-parallel-item:last-child::after {align-self: flex-start;width: 50%;}#sk-container-id-2 div.sk-parallel-item:only-child::after {width: 0;}#sk-container-id-2 div.sk-dashed-wrapped {border: 1px dashed gray;margin: 0 0.4em 0.5em 0.4em;box-sizing: border-box;padding-bottom: 0.4em;background-color: white;}#sk-container-id-2 div.sk-label label {font-family: monospace;font-weight: bold;display: inline-block;line-height: 1.2em;}#sk-container-id-2 div.sk-label-container {text-align: center;}#sk-container-id-2 div.sk-container {/* jupyter's `normalize.less` sets `[hidden] { display: none; }` but bootstrap.min.css set `[hidden] { display: none !important; }` so we also need the `!important` here to be able to override the default hidden behavior on the sphinx rendered scikit-learn.org. See: https://github.com/scikit-learn/scikit-learn/issues/21755 */display: inline-block !important;position: relative;}#sk-container-id-2 div.sk-text-repr-fallback {display: none;}</style><div id=\"sk-container-id-2\" class=\"sk-top-container\"><div class=\"sk-text-repr-fallback\"><pre>GridSearchCV(cv=3, estimator=RandomForestRegressor(n_jobs=-1, random_state=42),\n",
       "             n_jobs=-1,\n",
       "             param_grid={&#x27;max_depth&#x27;: [None, 10, 20, 30], &#x27;max_features&#x27;: [0.5],\n",
       "                         &#x27;max_samples&#x27;: [10000], &#x27;min_samples_leaf&#x27;: [1, 3, 4],\n",
       "                         &#x27;n_estimators&#x27;: [40, 100, 200]},\n",
       "             verbose=2)</pre><b>In a Jupyter environment, please rerun this cell to show the HTML representation or trust the notebook. <br />On GitHub, the HTML representation is unable to render, please try loading this page with nbviewer.org.</b></div><div class=\"sk-container\" hidden><div class=\"sk-item sk-dashed-wrapped\"><div class=\"sk-label-container\"><div class=\"sk-label sk-toggleable\"><input class=\"sk-toggleable__control sk-hidden--visually\" id=\"sk-estimator-id-2\" type=\"checkbox\" ><label for=\"sk-estimator-id-2\" class=\"sk-toggleable__label sk-toggleable__label-arrow\">GridSearchCV</label><div class=\"sk-toggleable__content\"><pre>GridSearchCV(cv=3, estimator=RandomForestRegressor(n_jobs=-1, random_state=42),\n",
       "             n_jobs=-1,\n",
       "             param_grid={&#x27;max_depth&#x27;: [None, 10, 20, 30], &#x27;max_features&#x27;: [0.5],\n",
       "                         &#x27;max_samples&#x27;: [10000], &#x27;min_samples_leaf&#x27;: [1, 3, 4],\n",
       "                         &#x27;n_estimators&#x27;: [40, 100, 200]},\n",
       "             verbose=2)</pre></div></div></div><div class=\"sk-parallel\"><div class=\"sk-parallel-item\"><div class=\"sk-item\"><div class=\"sk-label-container\"><div class=\"sk-label sk-toggleable\"><input class=\"sk-toggleable__control sk-hidden--visually\" id=\"sk-estimator-id-3\" type=\"checkbox\" ><label for=\"sk-estimator-id-3\" class=\"sk-toggleable__label sk-toggleable__label-arrow\">estimator: RandomForestRegressor</label><div class=\"sk-toggleable__content\"><pre>RandomForestRegressor(n_jobs=-1, random_state=42)</pre></div></div></div><div class=\"sk-serial\"><div class=\"sk-item\"><div class=\"sk-estimator sk-toggleable\"><input class=\"sk-toggleable__control sk-hidden--visually\" id=\"sk-estimator-id-4\" type=\"checkbox\" ><label for=\"sk-estimator-id-4\" class=\"sk-toggleable__label sk-toggleable__label-arrow\">RandomForestRegressor</label><div class=\"sk-toggleable__content\"><pre>RandomForestRegressor(n_jobs=-1, random_state=42)</pre></div></div></div></div></div></div></div></div></div></div>"
      ],
      "text/plain": [
       "GridSearchCV(cv=3, estimator=RandomForestRegressor(n_jobs=-1, random_state=42),\n",
       "             n_jobs=-1,\n",
       "             param_grid={'max_depth': [None, 10, 20, 30], 'max_features': [0.5],\n",
       "                         'max_samples': [10000], 'min_samples_leaf': [1, 3, 4],\n",
       "                         'n_estimators': [40, 100, 200]},\n",
       "             verbose=2)"
      ]
     },
     "execution_count": 17,
     "metadata": {},
     "output_type": "execute_result"
    }
   ],
   "source": [
    "param_grid = {\n",
    "        'n_estimators': [40, 100, 200],\n",
    "        'max_features': [0.5],\n",
    "        'max_depth': [None, 10, 20, 30],\n",
    "        'min_samples_leaf': [1, 3, 4],\n",
    "        'max_samples' : [10000]\n",
    "}\n",
    "\n",
    "rf = RandomForestRegressor(n_jobs=-1, random_state=42)\n",
    "\n",
    "tune_model = GridSearchCV(estimator=rf, param_grid=param_grid, cv=3, n_jobs=-1, verbose=2)\n",
    "tune_model.fit(X_train, y_train)"
   ]
  },
  {
   "cell_type": "code",
   "execution_count": 18,
   "id": "b14ea8b1-fea8-408f-9eb3-7485c80c53ec",
   "metadata": {},
   "outputs": [
    {
     "data": {
      "text/plain": [
       "{'max_depth': None,\n",
       " 'max_features': 0.5,\n",
       " 'max_samples': 10000,\n",
       " 'min_samples_leaf': 1,\n",
       " 'n_estimators': 200}"
      ]
     },
     "execution_count": 18,
     "metadata": {},
     "output_type": "execute_result"
    }
   ],
   "source": [
    "tune_model.best_params_"
   ]
  },
  {
   "cell_type": "code",
   "execution_count": 19,
   "id": "42ec4917-6c63-4546-9c81-234fee9a0fed",
   "metadata": {},
   "outputs": [
    {
     "name": "stdout",
     "output_type": "stream",
     "text": [
      "Train MAE: 5658.725911274542\n",
      "Valid MAE: 7043.3842244880325\n",
      "Train RMSLE: 0.2611350874610351\n",
      "Valid RMSLE: 0.29095344530160355\n",
      "Train R2: 0.8580081972293169\n",
      "Valid_R2: 0.8402686217822186\n"
     ]
    }
   ],
   "source": [
    "tune_model_scores = evaluate(tune_model)"
   ]
  },
  {
   "cell_type": "code",
   "execution_count": 38,
   "id": "e1e99642-7482-4f07-bbd8-5c7fb66b5fe2",
   "metadata": {},
   "outputs": [],
   "source": [
    "tune_model_pd = pd.DataFrame(tune_model_scores).T"
   ]
  },
  {
   "cell_type": "markdown",
   "id": "095a6864-4676-4891-a8ef-54a7a0f997c1",
   "metadata": {},
   "source": [
    "**what if we use best params on whole train set? 😋**"
   ]
  },
  {
   "cell_type": "markdown",
   "id": "5f675b98-98b9-4225-ac28-d173c6a52e52",
   "metadata": {},
   "source": [
    "## Tuning Random Forest Regressor For All Of The Train Set"
   ]
  },
  {
   "cell_type": "code",
   "execution_count": 35,
   "id": "f547131b-561c-4708-bd3f-3d22243ac666",
   "metadata": {},
   "outputs": [
    {
     "data": {
      "text/html": [
       "<style>#sk-container-id-8 {color: black;}#sk-container-id-8 pre{padding: 0;}#sk-container-id-8 div.sk-toggleable {background-color: white;}#sk-container-id-8 label.sk-toggleable__label {cursor: pointer;display: block;width: 100%;margin-bottom: 0;padding: 0.3em;box-sizing: border-box;text-align: center;}#sk-container-id-8 label.sk-toggleable__label-arrow:before {content: \"▸\";float: left;margin-right: 0.25em;color: #696969;}#sk-container-id-8 label.sk-toggleable__label-arrow:hover:before {color: black;}#sk-container-id-8 div.sk-estimator:hover label.sk-toggleable__label-arrow:before {color: black;}#sk-container-id-8 div.sk-toggleable__content {max-height: 0;max-width: 0;overflow: hidden;text-align: left;background-color: #f0f8ff;}#sk-container-id-8 div.sk-toggleable__content pre {margin: 0.2em;color: black;border-radius: 0.25em;background-color: #f0f8ff;}#sk-container-id-8 input.sk-toggleable__control:checked~div.sk-toggleable__content {max-height: 200px;max-width: 100%;overflow: auto;}#sk-container-id-8 input.sk-toggleable__control:checked~label.sk-toggleable__label-arrow:before {content: \"▾\";}#sk-container-id-8 div.sk-estimator input.sk-toggleable__control:checked~label.sk-toggleable__label {background-color: #d4ebff;}#sk-container-id-8 div.sk-label input.sk-toggleable__control:checked~label.sk-toggleable__label {background-color: #d4ebff;}#sk-container-id-8 input.sk-hidden--visually {border: 0;clip: rect(1px 1px 1px 1px);clip: rect(1px, 1px, 1px, 1px);height: 1px;margin: -1px;overflow: hidden;padding: 0;position: absolute;width: 1px;}#sk-container-id-8 div.sk-estimator {font-family: monospace;background-color: #f0f8ff;border: 1px dotted black;border-radius: 0.25em;box-sizing: border-box;margin-bottom: 0.5em;}#sk-container-id-8 div.sk-estimator:hover {background-color: #d4ebff;}#sk-container-id-8 div.sk-parallel-item::after {content: \"\";width: 100%;border-bottom: 1px solid gray;flex-grow: 1;}#sk-container-id-8 div.sk-label:hover label.sk-toggleable__label {background-color: #d4ebff;}#sk-container-id-8 div.sk-serial::before {content: \"\";position: absolute;border-left: 1px solid gray;box-sizing: border-box;top: 0;bottom: 0;left: 50%;z-index: 0;}#sk-container-id-8 div.sk-serial {display: flex;flex-direction: column;align-items: center;background-color: white;padding-right: 0.2em;padding-left: 0.2em;position: relative;}#sk-container-id-8 div.sk-item {position: relative;z-index: 1;}#sk-container-id-8 div.sk-parallel {display: flex;align-items: stretch;justify-content: center;background-color: white;position: relative;}#sk-container-id-8 div.sk-item::before, #sk-container-id-8 div.sk-parallel-item::before {content: \"\";position: absolute;border-left: 1px solid gray;box-sizing: border-box;top: 0;bottom: 0;left: 50%;z-index: -1;}#sk-container-id-8 div.sk-parallel-item {display: flex;flex-direction: column;z-index: 1;position: relative;background-color: white;}#sk-container-id-8 div.sk-parallel-item:first-child::after {align-self: flex-end;width: 50%;}#sk-container-id-8 div.sk-parallel-item:last-child::after {align-self: flex-start;width: 50%;}#sk-container-id-8 div.sk-parallel-item:only-child::after {width: 0;}#sk-container-id-8 div.sk-dashed-wrapped {border: 1px dashed gray;margin: 0 0.4em 0.5em 0.4em;box-sizing: border-box;padding-bottom: 0.4em;background-color: white;}#sk-container-id-8 div.sk-label label {font-family: monospace;font-weight: bold;display: inline-block;line-height: 1.2em;}#sk-container-id-8 div.sk-label-container {text-align: center;}#sk-container-id-8 div.sk-container {/* jupyter's `normalize.less` sets `[hidden] { display: none; }` but bootstrap.min.css set `[hidden] { display: none !important; }` so we also need the `!important` here to be able to override the default hidden behavior on the sphinx rendered scikit-learn.org. See: https://github.com/scikit-learn/scikit-learn/issues/21755 */display: inline-block !important;position: relative;}#sk-container-id-8 div.sk-text-repr-fallback {display: none;}</style><div id=\"sk-container-id-8\" class=\"sk-top-container\"><div class=\"sk-text-repr-fallback\"><pre>RandomForestRegressor(max_features=0.5, n_estimators=200, n_jobs=-1,\n",
       "                      random_state=42)</pre><b>In a Jupyter environment, please rerun this cell to show the HTML representation or trust the notebook. <br />On GitHub, the HTML representation is unable to render, please try loading this page with nbviewer.org.</b></div><div class=\"sk-container\" hidden><div class=\"sk-item\"><div class=\"sk-estimator sk-toggleable\"><input class=\"sk-toggleable__control sk-hidden--visually\" id=\"sk-estimator-id-10\" type=\"checkbox\" checked><label for=\"sk-estimator-id-10\" class=\"sk-toggleable__label sk-toggleable__label-arrow\">RandomForestRegressor</label><div class=\"sk-toggleable__content\"><pre>RandomForestRegressor(max_features=0.5, n_estimators=200, n_jobs=-1,\n",
       "                      random_state=42)</pre></div></div></div></div></div>"
      ],
      "text/plain": [
       "RandomForestRegressor(max_features=0.5, n_estimators=200, n_jobs=-1,\n",
       "                      random_state=42)"
      ]
     },
     "execution_count": 35,
     "metadata": {},
     "output_type": "execute_result"
    }
   ],
   "source": [
    "final_model = RandomForestRegressor(n_estimators=200, max_depth=None, max_features=0.5, min_samples_leaf=1, n_jobs=-1,random_state=42)\n",
    "\n",
    "final_model.fit(X_train, y_train)"
   ]
  },
  {
   "cell_type": "code",
   "execution_count": 36,
   "id": "5eeaa376-f3ac-42f2-ab26-da4473c34c06",
   "metadata": {},
   "outputs": [
    {
     "name": "stdout",
     "output_type": "stream",
     "text": [
      "Train MAE: 1553.0338982819155\n",
      "Valid MAE: 5859.3952328696105\n",
      "Train RMSLE: 0.08239000747863359\n",
      "Valid RMSLE: 0.2417126581048283\n",
      "Train R2: 0.9882610182147202\n",
      "Valid_R2: 0.884874445056033\n"
     ]
    }
   ],
   "source": [
    "final_model_scores = evaluate(final_model)"
   ]
  },
  {
   "cell_type": "markdown",
   "id": "9c49c384-f5db-4997-bf22-f17e591e47c1",
   "metadata": {},
   "source": [
    "## Yeap 😁"
   ]
  },
  {
   "cell_type": "markdown",
   "id": "5bc08464-4f3c-4de8-917c-c4905b65ed12",
   "metadata": {},
   "source": [
    "our `final model` has been fitted with all train set and has the best result amoung the `normal model` & `little model`.\n",
    "we collect the **hyper parameter** with tuning `little model` (*Grid Search CV*), then used those **HPs** to tune the `normal model`"
   ]
  },
  {
   "cell_type": "code",
   "execution_count": 37,
   "id": "b5afbdb1-7627-4a80-b3cd-dda398d25061",
   "metadata": {},
   "outputs": [],
   "source": [
    "final_model_pd = pd.DataFrame(final_model_scores).T"
   ]
  },
  {
   "cell_type": "code",
   "execution_count": 58,
   "id": "5d6c6e23-4a65-4c4f-b4b0-b75b68bab130",
   "metadata": {},
   "outputs": [
    {
     "data": {
      "image/png": "[encoded data removed]",
      "text/plain": [
       "<Figure size 2500x700 with 4 Axes>"
      ]
     },
     "metadata": {},
     "output_type": "display_data"
    }
   ],
   "source": [
    "plt.subplot(1, 4, 1)\n",
    "normal_model_pd[\"RMSLE\"].plot(kind=\"bar\",color=\"salmon\",figsize=(25,7));\n",
    "\n",
    "plt.grid()\n",
    "plt.xticks(rotation=0)\n",
    "plt.title(\"RMSLE Of Normal Model\");\n",
    "\n",
    "plt.subplot(1, 4, 2)\n",
    "little_model_pd[\"RMSLE\"].plot(kind=\"bar\" ,color=\"lightgray\")\n",
    "\n",
    "plt.grid()\n",
    "plt.xticks(rotation=0)\n",
    "plt.title(\"RMSLE Of Little Model\");\n",
    "\n",
    "plt.subplot(1, 4, 3)\n",
    "tune_model_pd[\"RMSLE\"].plot(kind=\"bar\" ,color=\"lightblue\")\n",
    "\n",
    "plt.grid()\n",
    "plt.xticks(rotation=0)\n",
    "plt.title(\"RMSLE Of Tune Model\");\n",
    "\n",
    "plt.subplot(1, 4, 4)\n",
    "final_model_pd[\"RMSLE\"].plot(kind=\"bar\" ,color=\"lightgreen\")\n",
    "\n",
    "plt.grid()\n",
    "plt.xticks(rotation=0)\n",
    "plt.title(\"RMSLE Of Final Model\");"
   ]
  },
  {
   "cell_type": "code",
   "execution_count": null,
   "id": "34a73939-5494-4c95-b4c4-8bcc6a1dab5f",
   "metadata": {},
   "outputs": [],
   "source": []
  }
 ],
 "metadata": {
  "kernelspec": {
   "display_name": "Python 3 (ipykernel)",
   "language": "python",
   "name": "python3"
  },
  "language_info": {
   "codemirror_mode": {
    "name": "ipython",
    "version": 3
   },
   "file_extension": ".py",
   "mimetype": "text/x-python",
   "name": "python",
   "nbconvert_exporter": "python",
   "pygments_lexer": "ipython3",
   "version": "3.9.12"
  }
 },
 "nbformat": 4,
 "nbformat_minor": 5
}
